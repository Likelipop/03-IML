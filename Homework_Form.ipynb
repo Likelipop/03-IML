{
  "cells": [
    {
      "cell_type": "markdown",
      "metadata": {
        "id": "view-in-github",
        "colab_type": "text"
      },
      "source": [
        "<a href=\"https://colab.research.google.com/github/Likelipop/03-IML/blob/main/Homework_Form.ipynb\" target=\"_parent\"><img src=\"https://colab.research.google.com/assets/colab-badge.svg\" alt=\"Open In Colab\"/></a>"
      ]
    },
    {
      "cell_type": "markdown",
      "source": [
        "1. Analyze and Preprocess data - Check if the dataset has missing values or has any other problem.\n",
        "2. Feature Engineering\n",
        "3. Divide the dataset into 2 training and test sets\n",
        "4. Use Pipeline\n",
        "    4. a. Use scaler and dimensional reduction (if it is necessary).\n",
        "    4. b. Use suitable Naive Bayes for this problem.\n",
        "5. Perform model on training set and test set using gridsearch CV\n",
        "6. Measure performance of the model.\n",
        "7. Which metric is your main metric for this problem and why? What are your scaler, dimensional reduction and naive bayes model as well as their params? (<= 200 words, also input your opinion or conclusion here)\n",
        "\n",
        "\n",
        "How can I measure your point:\n",
        "1. Your function is callable and runs correctly\n",
        "2. The performance of your model (in full pipeline) is acceptable. The final error based on my train and test set is low enough.\n",
        "3. The data preprocessing is correct or make sense\n",
        "4. The Feature engineering is correct or make sense\n",
        "5. Any other additional process will be considered a small plus point."
      ],
      "metadata": {
        "collapsed": false,
        "id": "_GIq8Io_8Koq"
      }
    },
    {
      "cell_type": "markdown",
      "source": [
        "A Travel Company Is Offering Travel Insurance Packages To Their Customers. The new insurance plan also covers Covid-19. The Company Claims To Know Which Customers Are Interested To Buy It Based On The Company's Database History.\n",
        "\n",
        "* Age - Age Of The Customer\n",
        "* Employment Type - The Sector In Which Customer Is Employed\n",
        "GraduateOrNot - Whether The Customer Is College Graduate Or Not\n",
        "* AnnualIncome - The Yearly Income Of The Customer In Indian Rupees\n",
        "* FamilyMembers - Number Of Members In Customer's Family\n",
        "* ChronicDisease - Whether The Customer Suffers From Any Major Disease Or Conditions Like Diabetes/High BP or Asthama,etc.\n",
        "* FrequentFlyer - Derived Data Based On Customer's History Of Booking Air Tickets On Atleast 4 Different Instances In The Last 2 Years (2017-2019).\n",
        "* EverTravelledAbroad - Has The Customer Ever Travelled To A Foreign Country\n",
        "* TravelInsurance - Did The Customer Buy Travel Insurance Package During Introductory Offering Held In The Year 2019.\n",
        "\n",
        "**Submit Link**: https://forms.gle/CwmpBrfa2SYQic7G6"
      ],
      "metadata": {
        "collapsed": false,
        "id": "SjhjJmx68Kou"
      }
    },
    {
      "cell_type": "markdown",
      "source": [
        "## Load Dataset"
      ],
      "metadata": {
        "collapsed": false,
        "id": "iDJN7fbU8Kov"
      }
    },
    {
      "cell_type": "code",
      "source": [
        "import pandas as pd\n",
        "import numpy as np\n",
        "import matplotlib.pyplot as plt\n",
        "import seaborn as sns\n",
        "from google.colab import drive\n",
        "\n",
        "drive.mount(\"/content/drive\")"
      ],
      "metadata": {
        "colab": {
          "base_uri": "https://localhost:8080/"
        },
        "id": "YfmW1_KdudmQ",
        "outputId": "d7688652-06a4-4749-885d-3517d1a2bd73"
      },
      "execution_count": null,
      "outputs": [
        {
          "output_type": "stream",
          "name": "stdout",
          "text": [
            "Mounted at /content/drive\n"
          ]
        }
      ]
    },
    {
      "cell_type": "code",
      "execution_count": null,
      "outputs": [
        {
          "output_type": "execute_result",
          "data": {
            "text/plain": [
              "   Unnamed: 0  Age               Employment Type GraduateOrNot  AnnualIncome  \\\n",
              "0           0   31             Government Sector           Yes        400000   \n",
              "1           1   31  Private Sector/Self Employed           Yes       1250000   \n",
              "2           2   34  Private Sector/Self Employed           Yes        500000   \n",
              "3           3   28  Private Sector/Self Employed           Yes        700000   \n",
              "4           4   28  Private Sector/Self Employed           Yes        700000   \n",
              "\n",
              "   FamilyMembers  ChronicDiseases FrequentFlyer EverTravelledAbroad  \\\n",
              "0              6                1            No                  No   \n",
              "1              7                0            No                  No   \n",
              "2              4                1            No                  No   \n",
              "3              3                1            No                  No   \n",
              "4              8                1           Yes                  No   \n",
              "\n",
              "   TravelInsurance  \n",
              "0                0  \n",
              "1                0  \n",
              "2                1  \n",
              "3                0  \n",
              "4                0  "
            ],
            "text/html": [
              "\n",
              "  <div id=\"df-23493dca-8ca8-49fa-a844-4e63cf668f0d\">\n",
              "    <div class=\"colab-df-container\">\n",
              "      <div>\n",
              "<style scoped>\n",
              "    .dataframe tbody tr th:only-of-type {\n",
              "        vertical-align: middle;\n",
              "    }\n",
              "\n",
              "    .dataframe tbody tr th {\n",
              "        vertical-align: top;\n",
              "    }\n",
              "\n",
              "    .dataframe thead th {\n",
              "        text-align: right;\n",
              "    }\n",
              "</style>\n",
              "<table border=\"1\" class=\"dataframe\">\n",
              "  <thead>\n",
              "    <tr style=\"text-align: right;\">\n",
              "      <th></th>\n",
              "      <th>Unnamed: 0</th>\n",
              "      <th>Age</th>\n",
              "      <th>Employment Type</th>\n",
              "      <th>GraduateOrNot</th>\n",
              "      <th>AnnualIncome</th>\n",
              "      <th>FamilyMembers</th>\n",
              "      <th>ChronicDiseases</th>\n",
              "      <th>FrequentFlyer</th>\n",
              "      <th>EverTravelledAbroad</th>\n",
              "      <th>TravelInsurance</th>\n",
              "    </tr>\n",
              "  </thead>\n",
              "  <tbody>\n",
              "    <tr>\n",
              "      <th>0</th>\n",
              "      <td>0</td>\n",
              "      <td>31</td>\n",
              "      <td>Government Sector</td>\n",
              "      <td>Yes</td>\n",
              "      <td>400000</td>\n",
              "      <td>6</td>\n",
              "      <td>1</td>\n",
              "      <td>No</td>\n",
              "      <td>No</td>\n",
              "      <td>0</td>\n",
              "    </tr>\n",
              "    <tr>\n",
              "      <th>1</th>\n",
              "      <td>1</td>\n",
              "      <td>31</td>\n",
              "      <td>Private Sector/Self Employed</td>\n",
              "      <td>Yes</td>\n",
              "      <td>1250000</td>\n",
              "      <td>7</td>\n",
              "      <td>0</td>\n",
              "      <td>No</td>\n",
              "      <td>No</td>\n",
              "      <td>0</td>\n",
              "    </tr>\n",
              "    <tr>\n",
              "      <th>2</th>\n",
              "      <td>2</td>\n",
              "      <td>34</td>\n",
              "      <td>Private Sector/Self Employed</td>\n",
              "      <td>Yes</td>\n",
              "      <td>500000</td>\n",
              "      <td>4</td>\n",
              "      <td>1</td>\n",
              "      <td>No</td>\n",
              "      <td>No</td>\n",
              "      <td>1</td>\n",
              "    </tr>\n",
              "    <tr>\n",
              "      <th>3</th>\n",
              "      <td>3</td>\n",
              "      <td>28</td>\n",
              "      <td>Private Sector/Self Employed</td>\n",
              "      <td>Yes</td>\n",
              "      <td>700000</td>\n",
              "      <td>3</td>\n",
              "      <td>1</td>\n",
              "      <td>No</td>\n",
              "      <td>No</td>\n",
              "      <td>0</td>\n",
              "    </tr>\n",
              "    <tr>\n",
              "      <th>4</th>\n",
              "      <td>4</td>\n",
              "      <td>28</td>\n",
              "      <td>Private Sector/Self Employed</td>\n",
              "      <td>Yes</td>\n",
              "      <td>700000</td>\n",
              "      <td>8</td>\n",
              "      <td>1</td>\n",
              "      <td>Yes</td>\n",
              "      <td>No</td>\n",
              "      <td>0</td>\n",
              "    </tr>\n",
              "  </tbody>\n",
              "</table>\n",
              "</div>\n",
              "      <button class=\"colab-df-convert\" onclick=\"convertToInteractive('df-23493dca-8ca8-49fa-a844-4e63cf668f0d')\"\n",
              "              title=\"Convert this dataframe to an interactive table.\"\n",
              "              style=\"display:none;\">\n",
              "        \n",
              "  <svg xmlns=\"http://www.w3.org/2000/svg\" height=\"24px\"viewBox=\"0 0 24 24\"\n",
              "       width=\"24px\">\n",
              "    <path d=\"M0 0h24v24H0V0z\" fill=\"none\"/>\n",
              "    <path d=\"M18.56 5.44l.94 2.06.94-2.06 2.06-.94-2.06-.94-.94-2.06-.94 2.06-2.06.94zm-11 1L8.5 8.5l.94-2.06 2.06-.94-2.06-.94L8.5 2.5l-.94 2.06-2.06.94zm10 10l.94 2.06.94-2.06 2.06-.94-2.06-.94-.94-2.06-.94 2.06-2.06.94z\"/><path d=\"M17.41 7.96l-1.37-1.37c-.4-.4-.92-.59-1.43-.59-.52 0-1.04.2-1.43.59L10.3 9.45l-7.72 7.72c-.78.78-.78 2.05 0 2.83L4 21.41c.39.39.9.59 1.41.59.51 0 1.02-.2 1.41-.59l7.78-7.78 2.81-2.81c.8-.78.8-2.07 0-2.86zM5.41 20L4 18.59l7.72-7.72 1.47 1.35L5.41 20z\"/>\n",
              "  </svg>\n",
              "      </button>\n",
              "      \n",
              "  <style>\n",
              "    .colab-df-container {\n",
              "      display:flex;\n",
              "      flex-wrap:wrap;\n",
              "      gap: 12px;\n",
              "    }\n",
              "\n",
              "    .colab-df-convert {\n",
              "      background-color: #E8F0FE;\n",
              "      border: none;\n",
              "      border-radius: 50%;\n",
              "      cursor: pointer;\n",
              "      display: none;\n",
              "      fill: #1967D2;\n",
              "      height: 32px;\n",
              "      padding: 0 0 0 0;\n",
              "      width: 32px;\n",
              "    }\n",
              "\n",
              "    .colab-df-convert:hover {\n",
              "      background-color: #E2EBFA;\n",
              "      box-shadow: 0px 1px 2px rgba(60, 64, 67, 0.3), 0px 1px 3px 1px rgba(60, 64, 67, 0.15);\n",
              "      fill: #174EA6;\n",
              "    }\n",
              "\n",
              "    [theme=dark] .colab-df-convert {\n",
              "      background-color: #3B4455;\n",
              "      fill: #D2E3FC;\n",
              "    }\n",
              "\n",
              "    [theme=dark] .colab-df-convert:hover {\n",
              "      background-color: #434B5C;\n",
              "      box-shadow: 0px 1px 3px 1px rgba(0, 0, 0, 0.15);\n",
              "      filter: drop-shadow(0px 1px 2px rgba(0, 0, 0, 0.3));\n",
              "      fill: #FFFFFF;\n",
              "    }\n",
              "  </style>\n",
              "\n",
              "      <script>\n",
              "        const buttonEl =\n",
              "          document.querySelector('#df-23493dca-8ca8-49fa-a844-4e63cf668f0d button.colab-df-convert');\n",
              "        buttonEl.style.display =\n",
              "          google.colab.kernel.accessAllowed ? 'block' : 'none';\n",
              "\n",
              "        async function convertToInteractive(key) {\n",
              "          const element = document.querySelector('#df-23493dca-8ca8-49fa-a844-4e63cf668f0d');\n",
              "          const dataTable =\n",
              "            await google.colab.kernel.invokeFunction('convertToInteractive',\n",
              "                                                     [key], {});\n",
              "          if (!dataTable) return;\n",
              "\n",
              "          const docLinkHtml = 'Like what you see? Visit the ' +\n",
              "            '<a target=\"_blank\" href=https://colab.research.google.com/notebooks/data_table.ipynb>data table notebook</a>'\n",
              "            + ' to learn more about interactive tables.';\n",
              "          element.innerHTML = '';\n",
              "          dataTable['output_type'] = 'display_data';\n",
              "          await google.colab.output.renderOutput(dataTable, element);\n",
              "          const docLink = document.createElement('div');\n",
              "          docLink.innerHTML = docLinkHtml;\n",
              "          element.appendChild(docLink);\n",
              "        }\n",
              "      </script>\n",
              "    </div>\n",
              "  </div>\n",
              "  "
            ]
          },
          "metadata": {},
          "execution_count": 2
        }
      ],
      "source": [
        "import pandas as pd\n",
        "PATH = \" \" # Path to your file\n",
        "\n",
        "df = pd.read_csv(\"/content/drive/MyDrive/KHTN/Machine Learning (Nhập môn)/my excercise/Week 03/Week 03/TravelInsurancePrediction.csv\")\n",
        "df.head()\n",
        "#ToDo: Show histogram of dataframe"
      ],
      "metadata": {
        "id": "G8aJO4Rj8Kov",
        "colab": {
          "base_uri": "https://localhost:8080/",
          "height": 204
        },
        "outputId": "91bc6e50-30bd-4bb6-b06b-6583f0db557c"
      }
    },
    {
      "cell_type": "markdown",
      "source": [
        "## Data Analysis"
      ],
      "metadata": {
        "collapsed": false,
        "id": "mk4IrtwS8Kow"
      }
    },
    {
      "cell_type": "code",
      "execution_count": null,
      "outputs": [],
      "source": [
        "# Data analysis\n",
        "# Todo: analyze your data here"
      ],
      "metadata": {
        "id": "Z4z7vGmJ8Kox"
      }
    },
    {
      "cell_type": "markdown",
      "source": [
        "## Preprocessing"
      ],
      "metadata": {
        "collapsed": false,
        "id": "flqsM83K8Kox"
      }
    },
    {
      "cell_type": "code",
      "execution_count": null,
      "outputs": [],
      "source": [
        "def preprocessing_data(df):\n",
        "    \"\"\"\n",
        "    Preprocess your data (eg. Drop null datapoints or fill missing data)\n",
        "    :param df: pandas DataFrame\n",
        "    :return: pandas DataFrame\n",
        "    \"\"\"\n",
        "    # Todo: preprocess data\n",
        "    df =\n",
        "    return df"
      ],
      "metadata": {
        "id": "BsLrFNP-8Kox"
      }
    },
    {
      "cell_type": "code",
      "execution_count": null,
      "outputs": [],
      "source": [
        "df = preprocessing_data(df.copy())"
      ],
      "metadata": {
        "id": "dei_gmKb8Koy"
      }
    },
    {
      "cell_type": "markdown",
      "source": [
        "## Feature Engineering"
      ],
      "metadata": {
        "collapsed": false,
        "id": "Zi5s_ZP48Koy"
      }
    },
    {
      "cell_type": "code",
      "execution_count": null,
      "outputs": [],
      "source": [
        "# Heatmap\n",
        "import seaborn as sns\n",
        "\n",
        "def apply_feature_engineering(df):\n",
        "    \"\"\"\n",
        "    Apply all feature engineering to transform your data into number\n",
        "    :param df: pandas DataFrame\n",
        "    :return: pandas DataFrame\n",
        "    \"\"\"\n",
        "    # Todo: Normalize your data\n",
        "    df =\n",
        "    return df\n",
        "\n",
        "df = apply_feature_engineering(df)\n",
        "sns.heatmap(df.corr()) # Show heatmap after normalized data"
      ],
      "metadata": {
        "id": "6VQVAmTx8Koy"
      }
    },
    {
      "cell_type": "code",
      "execution_count": null,
      "outputs": [],
      "source": [
        "def prepare_X_y(df):\n",
        "    \"\"\"\n",
        "    Feature engineering and create X and y\n",
        "    :param df: pandas dataframe\n",
        "    :return: (X, y) output feature matrix (dataframe), target (series)\n",
        "    \"\"\"\n",
        "    # Todo: Split data into X and y (using sklearn train_test_split). Return two dataframes\n",
        "    X = # Todo: Select features\n",
        "    y = # Todo: Select label\n",
        "    return X, y\n",
        "\n",
        "X, y = prepare_X_y(df)"
      ],
      "metadata": {
        "id": "kWoZ3iLO8Koz"
      }
    },
    {
      "cell_type": "markdown",
      "source": [
        "# Apply machine learning model"
      ],
      "metadata": {
        "collapsed": false,
        "id": "prlZ55S68Koz"
      }
    },
    {
      "cell_type": "markdown",
      "source": [
        "## Train-test split"
      ],
      "metadata": {
        "collapsed": false,
        "id": "uwkqQnmZ8Ko0"
      }
    },
    {
      "cell_type": "code",
      "execution_count": null,
      "outputs": [],
      "source": [
        "from sklearn.model_selection import train_test_split\n",
        "RANDOM_STATE = ??\n",
        "TRAIN_SIZE = ??\n",
        "\n",
        "trainX, testX ,trainY, testY = train_test_split(X, y, train_size=TRAIN_SIZE, random_state=RANDOM_STATE)"
      ],
      "metadata": {
        "id": "AgohjEzw8Ko0"
      }
    },
    {
      "cell_type": "markdown",
      "source": [
        "## Build SK-learn model"
      ],
      "metadata": {
        "collapsed": false,
        "id": "Xy5y6NEO8Ko0"
      }
    },
    {
      "cell_type": "code",
      "execution_count": null,
      "outputs": [],
      "source": [
        "from sklearn.metrics import classification_report\n",
        "from sklearn.pipeline import make_pipeline\n",
        "\n",
        "def build_model(X, y):\n",
        "    \"\"\"\n",
        "    Design your model and train it (including your best params)\n",
        "    :param X: feature matrix\n",
        "    :param y: target\n",
        "    :return: a model\n",
        "    \"\"\"\n",
        "\n",
        "    # Todo: Input your scaler and logistic model into pipeline\n",
        "    model = make_pipeline()\n",
        "    # Todo: fit your model with X, y\n",
        "\n",
        "    return model\n",
        "\n",
        "def calculate_performance(y_true, y_pred):\n",
        "    \"\"\"\n",
        "\n",
        "    :param y_true: ground truth values\n",
        "    :param y_pred: predictions\n",
        "    :return:\n",
        "    \"\"\"\n",
        "    # Todo: return your error value like accuracy, f1score, ...\n",
        "    print(\"precision\", )\n",
        "    print(\"recall\", )\n",
        "    print(\"accuracy\", )\n",
        "    print(\"F1\", )\n",
        "\n",
        "    # Todo: Only choose one of them as your score for the question 7\n",
        "    main_score =\n",
        "    return main_score\n",
        "\n",
        "model = build_model(trainX, trainY)\n",
        "# Compare on training dataset\n",
        "pred = model.predict(testX)\n",
        "calculate_performance(#Todo Input)"
      ],
      "metadata": {
        "id": "lge0OhiI8Ko1"
      }
    },
    {
      "cell_type": "code",
      "execution_count": null,
      "outputs": [],
      "source": [
        "def get_conclusion():\n",
        "    # Todo: Please return your answer, conclusion and opinion right here\n",
        "    return \"7. \" \\\n",
        "           \"Other conclusion: \""
      ],
      "metadata": {
        "id": "T0UDQCc48Ko1"
      }
    }
  ],
  "metadata": {
    "kernelspec": {
      "display_name": "Python 3",
      "language": "python",
      "name": "python3"
    },
    "language_info": {
      "codemirror_mode": {
        "name": "ipython",
        "version": 2
      },
      "file_extension": ".py",
      "mimetype": "text/x-python",
      "name": "python",
      "nbconvert_exporter": "python",
      "pygments_lexer": "ipython2",
      "version": "2.7.6"
    },
    "colab": {
      "provenance": [],
      "include_colab_link": true
    }
  },
  "nbformat": 4,
  "nbformat_minor": 0
}