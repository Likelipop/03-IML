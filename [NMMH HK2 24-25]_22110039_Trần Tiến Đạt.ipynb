{
  "nbformat": 4,
  "nbformat_minor": 0,
  "metadata": {
    "colab": {
      "provenance": [],
      "authorship_tag": "ABX9TyNQuEg5xWfa0XBzp8hfgav5",
      "include_colab_link": true
    },
    "kernelspec": {
      "name": "python3",
      "display_name": "Python 3"
    },
    "language_info": {
      "name": "python"
    }
  },
  "cells": [
    {
      "cell_type": "markdown",
      "metadata": {
        "id": "view-in-github",
        "colab_type": "text"
      },
      "source": [
        "<a href=\"https://colab.research.google.com/github/Likelipop/Introduction-to-ML/blob/main/%5BNMMH%20HK2%2024-25%5D_22110039_Tr%E1%BA%A7n%20Ti%E1%BA%BFn%20%C4%90%E1%BA%A1t.ipynb\" target=\"_parent\"><img src=\"https://colab.research.google.com/assets/colab-badge.svg\" alt=\"Open In Colab\"/></a>"
      ]
    },
    {
      "cell_type": "code",
      "execution_count": null,
      "metadata": {
        "id": "-6Ng0bAjCpar"
      },
      "outputs": [],
      "source": []
    }
  ]
}