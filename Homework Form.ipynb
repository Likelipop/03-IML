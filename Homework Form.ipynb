{
  "cells": [
    {
      "cell_type": "markdown",
      "source": [
        "1. Analyze and Preprocess data - Check if the dataset has missing values or has any other problem.\n",
        "2. Feature Engineering\n",
        "3. Divide the dataset into 2 training and test sets\n",
        "4. Use logistic model Regression. Try to apply different *solver* and *penalty* to find the best one.\n",
        "5. Perform model on training set and test set\n",
        "6. Measure performance of the model.\n",
        "7. Which metric is your main metric and why? Which solver and penalty have you chosen? (<= 100 words)\n",
        "\n",
        "\n",
        "How can I measure your point:\n",
        "1. Your function is callable and runs correctly\n",
        "2. The performance of your model (in full pipeline) is acceptable. The final error based on my train and test set is low enough.\n",
        "3. The data preprocessing is correct or make sense\n",
        "4. The Feature engineering is correct or make sense\n",
        "5. Any other additional process will be considered a small plus point.\n",
        "\n",
        "**Submission Link**: https://forms.gle/M2CxqVGrKLTzqR7g9 (Submit your .ipynb file)"
      ],
      "metadata": {
        "collapsed": false,
        "id": "_GIq8Io_8Koq"
      }
    },
    {
      "cell_type": "markdown",
      "source": [
        "- Age: This is the attribute that describes the age of the patient. There is data type $int64$, the highest value is 29, and the lowest is 77.\n",
        "- Sex: This is the attribute indicating the gender of the patient, where 0 indicates male patient, 1 female patient.\n",
        "- ChestPainType: This is the attribute that indicates the patient's chest pain level. With levels 0, 1, 2, and 3.\n",
        "- RestingBP: This is the attribute that indicates the patient's blood pressure with data type $int64$, the value is in the range [94, 200]\n",
        "- Cholesterol: This attribute indicates the patient's cholesterol level as measured in the hospital. Has the data type $int64$, where the value is in [126, 564]\n",
        "- FastingBS: This is an attribute that describes the patient's fasting blood sugar. In which, if the patient has more than 120mg/dl sugar = 1, otherwise = 0.\n",
        "- RestingECG: This property displays the results of the ECG from 0 to 2 (0, 1, 2). Where each value indicates the severity of the pain.\n",
        "- thalach: Patient's highest heart rate\n",
        "- ExerciseAngina: Whether or not you have angina during exercise. Yes denotes 1, no denotes 0.\n",
        "- Oldpeak: Attribute expressing the stress level of the patient. Has a value of type $float64$, the value is in [0, 6.2]\n",
        "- ST\\_Slope: Patient's condition during exercise. Includes [Upsloping, Flat, Down sloping] states that are sequentially digitized to [0, 1, 2].\n",
        "- ca: number of major vessels (0-3) colored by flourosopy - given\n",
        "- thal: 0 = normal; 1 = fixed defect; 2 = reversable defect\n",
        "- HeartDisease: Results of the patient's condition. 1 is for signs of heart disease, 0 is for no signs of heart disease."
      ],
      "metadata": {
        "collapsed": false,
        "id": "SjhjJmx68Kou"
      }
    },
    {
      "cell_type": "markdown",
      "source": [
        "## Load Dataset"
      ],
      "metadata": {
        "collapsed": false,
        "id": "iDJN7fbU8Kov"
      }
    },
    {
      "cell_type": "code",
      "source": [
        "!pip install prettytable"
      ],
      "metadata": {
        "id": "bSy7JxgPjuP3",
        "outputId": "42bbc975-94fb-4dc4-f278-3246ded77b7a",
        "colab": {
          "base_uri": "https://localhost:8080/"
        }
      },
      "execution_count": 1,
      "outputs": [
        {
          "output_type": "stream",
          "name": "stdout",
          "text": [
            "Requirement already satisfied: prettytable in /usr/local/lib/python3.11/dist-packages (3.16.0)\n",
            "Requirement already satisfied: wcwidth in /usr/local/lib/python3.11/dist-packages (from prettytable) (0.2.13)\n"
          ]
        }
      ]
    },
    {
      "cell_type": "code",
      "source": [
        "!git clone https://github.com/Likelipop/03-IML.git"
      ],
      "metadata": {
        "colab": {
          "base_uri": "https://localhost:8080/"
        },
        "id": "jtwfCP79v-Vn",
        "outputId": "d3cef03a-3f2e-4e0f-ee43-518245a623ae"
      },
      "execution_count": 2,
      "outputs": [
        {
          "output_type": "stream",
          "name": "stdout",
          "text": [
            "Cloning into '03-IML'...\n",
            "remote: Enumerating objects: 48, done.\u001b[K\n",
            "remote: Counting objects: 100% (48/48), done.\u001b[K\n",
            "remote: Compressing objects: 100% (47/47), done.\u001b[K\n",
            "remote: Total 48 (delta 20), reused 0 (delta 0), pack-reused 0 (from 0)\u001b[K\n",
            "Receiving objects: 100% (48/48), 2.97 MiB | 5.02 MiB/s, done.\n",
            "Resolving deltas: 100% (20/20), done.\n"
          ]
        }
      ]
    },
    {
      "cell_type": "code",
      "source": [
        "%cd 03-IML"
      ],
      "metadata": {
        "colab": {
          "base_uri": "https://localhost:8080/"
        },
        "id": "5Gk7mfONwDNm",
        "outputId": "d4e4b9b6-0521-4390-e34b-f772868e0797"
      },
      "execution_count": 3,
      "outputs": [
        {
          "output_type": "stream",
          "name": "stdout",
          "text": [
            "/content/03-IML\n"
          ]
        }
      ]
    },
    {
      "cell_type": "code",
      "execution_count": 4,
      "outputs": [],
      "source": [
        "import pandas as pd\n",
        "PATH = \"/content/03-IML/heart.csv\" # Path to your file\n",
        "\n",
        "df = pd.read_csv(PATH)\n",
        "#ToDo: Show histogram of dataframe"
      ],
      "metadata": {
        "id": "G8aJO4Rj8Kov"
      }
    },
    {
      "cell_type": "code",
      "source": [
        "df.head()"
      ],
      "metadata": {
        "colab": {
          "base_uri": "https://localhost:8080/",
          "height": 206
        },
        "id": "FYVyeezWxPnP",
        "outputId": "0ce3f340-5f64-4ae0-a9ae-f26e02b3dd27"
      },
      "execution_count": 5,
      "outputs": [
        {
          "output_type": "execute_result",
          "data": {
            "text/plain": [
              "   age  sex  cp  trestbps  chol  fbs  restecg  thalach  exang  oldpeak  slope  \\\n",
              "0   46    1   0       120   249    0        0      144      0      0.8      2   \n",
              "1   71    0   1       160   302    0        1      162      0      0.4      2   \n",
              "2   71    0   1       160   303    0        1      163      0      0.4      2   \n",
              "3   71    0   1       160   304    0        1      164      0      0.4      2   \n",
              "4   71    0   1       160   305    0        1      165      0      0.4      2   \n",
              "\n",
              "   ca  thal  target  \n",
              "0   0     3       0  \n",
              "1   2     2       1  \n",
              "2   2     2       1  \n",
              "3   2     2       1  \n",
              "4   2     2       1  "
            ],
            "text/html": [
              "\n",
              "  <div id=\"df-6fb23176-17d1-4865-8954-e876d5d79742\" class=\"colab-df-container\">\n",
              "    <div>\n",
              "<style scoped>\n",
              "    .dataframe tbody tr th:only-of-type {\n",
              "        vertical-align: middle;\n",
              "    }\n",
              "\n",
              "    .dataframe tbody tr th {\n",
              "        vertical-align: top;\n",
              "    }\n",
              "\n",
              "    .dataframe thead th {\n",
              "        text-align: right;\n",
              "    }\n",
              "</style>\n",
              "<table border=\"1\" class=\"dataframe\">\n",
              "  <thead>\n",
              "    <tr style=\"text-align: right;\">\n",
              "      <th></th>\n",
              "      <th>age</th>\n",
              "      <th>sex</th>\n",
              "      <th>cp</th>\n",
              "      <th>trestbps</th>\n",
              "      <th>chol</th>\n",
              "      <th>fbs</th>\n",
              "      <th>restecg</th>\n",
              "      <th>thalach</th>\n",
              "      <th>exang</th>\n",
              "      <th>oldpeak</th>\n",
              "      <th>slope</th>\n",
              "      <th>ca</th>\n",
              "      <th>thal</th>\n",
              "      <th>target</th>\n",
              "    </tr>\n",
              "  </thead>\n",
              "  <tbody>\n",
              "    <tr>\n",
              "      <th>0</th>\n",
              "      <td>46</td>\n",
              "      <td>1</td>\n",
              "      <td>0</td>\n",
              "      <td>120</td>\n",
              "      <td>249</td>\n",
              "      <td>0</td>\n",
              "      <td>0</td>\n",
              "      <td>144</td>\n",
              "      <td>0</td>\n",
              "      <td>0.8</td>\n",
              "      <td>2</td>\n",
              "      <td>0</td>\n",
              "      <td>3</td>\n",
              "      <td>0</td>\n",
              "    </tr>\n",
              "    <tr>\n",
              "      <th>1</th>\n",
              "      <td>71</td>\n",
              "      <td>0</td>\n",
              "      <td>1</td>\n",
              "      <td>160</td>\n",
              "      <td>302</td>\n",
              "      <td>0</td>\n",
              "      <td>1</td>\n",
              "      <td>162</td>\n",
              "      <td>0</td>\n",
              "      <td>0.4</td>\n",
              "      <td>2</td>\n",
              "      <td>2</td>\n",
              "      <td>2</td>\n",
              "      <td>1</td>\n",
              "    </tr>\n",
              "    <tr>\n",
              "      <th>2</th>\n",
              "      <td>71</td>\n",
              "      <td>0</td>\n",
              "      <td>1</td>\n",
              "      <td>160</td>\n",
              "      <td>303</td>\n",
              "      <td>0</td>\n",
              "      <td>1</td>\n",
              "      <td>163</td>\n",
              "      <td>0</td>\n",
              "      <td>0.4</td>\n",
              "      <td>2</td>\n",
              "      <td>2</td>\n",
              "      <td>2</td>\n",
              "      <td>1</td>\n",
              "    </tr>\n",
              "    <tr>\n",
              "      <th>3</th>\n",
              "      <td>71</td>\n",
              "      <td>0</td>\n",
              "      <td>1</td>\n",
              "      <td>160</td>\n",
              "      <td>304</td>\n",
              "      <td>0</td>\n",
              "      <td>1</td>\n",
              "      <td>164</td>\n",
              "      <td>0</td>\n",
              "      <td>0.4</td>\n",
              "      <td>2</td>\n",
              "      <td>2</td>\n",
              "      <td>2</td>\n",
              "      <td>1</td>\n",
              "    </tr>\n",
              "    <tr>\n",
              "      <th>4</th>\n",
              "      <td>71</td>\n",
              "      <td>0</td>\n",
              "      <td>1</td>\n",
              "      <td>160</td>\n",
              "      <td>305</td>\n",
              "      <td>0</td>\n",
              "      <td>1</td>\n",
              "      <td>165</td>\n",
              "      <td>0</td>\n",
              "      <td>0.4</td>\n",
              "      <td>2</td>\n",
              "      <td>2</td>\n",
              "      <td>2</td>\n",
              "      <td>1</td>\n",
              "    </tr>\n",
              "  </tbody>\n",
              "</table>\n",
              "</div>\n",
              "    <div class=\"colab-df-buttons\">\n",
              "\n",
              "  <div class=\"colab-df-container\">\n",
              "    <button class=\"colab-df-convert\" onclick=\"convertToInteractive('df-6fb23176-17d1-4865-8954-e876d5d79742')\"\n",
              "            title=\"Convert this dataframe to an interactive table.\"\n",
              "            style=\"display:none;\">\n",
              "\n",
              "  <svg xmlns=\"http://www.w3.org/2000/svg\" height=\"24px\" viewBox=\"0 -960 960 960\">\n",
              "    <path d=\"M120-120v-720h720v720H120Zm60-500h600v-160H180v160Zm220 220h160v-160H400v160Zm0 220h160v-160H400v160ZM180-400h160v-160H180v160Zm440 0h160v-160H620v160ZM180-180h160v-160H180v160Zm440 0h160v-160H620v160Z\"/>\n",
              "  </svg>\n",
              "    </button>\n",
              "\n",
              "  <style>\n",
              "    .colab-df-container {\n",
              "      display:flex;\n",
              "      gap: 12px;\n",
              "    }\n",
              "\n",
              "    .colab-df-convert {\n",
              "      background-color: #E8F0FE;\n",
              "      border: none;\n",
              "      border-radius: 50%;\n",
              "      cursor: pointer;\n",
              "      display: none;\n",
              "      fill: #1967D2;\n",
              "      height: 32px;\n",
              "      padding: 0 0 0 0;\n",
              "      width: 32px;\n",
              "    }\n",
              "\n",
              "    .colab-df-convert:hover {\n",
              "      background-color: #E2EBFA;\n",
              "      box-shadow: 0px 1px 2px rgba(60, 64, 67, 0.3), 0px 1px 3px 1px rgba(60, 64, 67, 0.15);\n",
              "      fill: #174EA6;\n",
              "    }\n",
              "\n",
              "    .colab-df-buttons div {\n",
              "      margin-bottom: 4px;\n",
              "    }\n",
              "\n",
              "    [theme=dark] .colab-df-convert {\n",
              "      background-color: #3B4455;\n",
              "      fill: #D2E3FC;\n",
              "    }\n",
              "\n",
              "    [theme=dark] .colab-df-convert:hover {\n",
              "      background-color: #434B5C;\n",
              "      box-shadow: 0px 1px 3px 1px rgba(0, 0, 0, 0.15);\n",
              "      filter: drop-shadow(0px 1px 2px rgba(0, 0, 0, 0.3));\n",
              "      fill: #FFFFFF;\n",
              "    }\n",
              "  </style>\n",
              "\n",
              "    <script>\n",
              "      const buttonEl =\n",
              "        document.querySelector('#df-6fb23176-17d1-4865-8954-e876d5d79742 button.colab-df-convert');\n",
              "      buttonEl.style.display =\n",
              "        google.colab.kernel.accessAllowed ? 'block' : 'none';\n",
              "\n",
              "      async function convertToInteractive(key) {\n",
              "        const element = document.querySelector('#df-6fb23176-17d1-4865-8954-e876d5d79742');\n",
              "        const dataTable =\n",
              "          await google.colab.kernel.invokeFunction('convertToInteractive',\n",
              "                                                    [key], {});\n",
              "        if (!dataTable) return;\n",
              "\n",
              "        const docLinkHtml = 'Like what you see? Visit the ' +\n",
              "          '<a target=\"_blank\" href=https://colab.research.google.com/notebooks/data_table.ipynb>data table notebook</a>'\n",
              "          + ' to learn more about interactive tables.';\n",
              "        element.innerHTML = '';\n",
              "        dataTable['output_type'] = 'display_data';\n",
              "        await google.colab.output.renderOutput(dataTable, element);\n",
              "        const docLink = document.createElement('div');\n",
              "        docLink.innerHTML = docLinkHtml;\n",
              "        element.appendChild(docLink);\n",
              "      }\n",
              "    </script>\n",
              "  </div>\n",
              "\n",
              "\n",
              "<div id=\"df-1bc0f31a-dd6b-4543-b4ad-5d1675ebcdfe\">\n",
              "  <button class=\"colab-df-quickchart\" onclick=\"quickchart('df-1bc0f31a-dd6b-4543-b4ad-5d1675ebcdfe')\"\n",
              "            title=\"Suggest charts\"\n",
              "            style=\"display:none;\">\n",
              "\n",
              "<svg xmlns=\"http://www.w3.org/2000/svg\" height=\"24px\"viewBox=\"0 0 24 24\"\n",
              "     width=\"24px\">\n",
              "    <g>\n",
              "        <path d=\"M19 3H5c-1.1 0-2 .9-2 2v14c0 1.1.9 2 2 2h14c1.1 0 2-.9 2-2V5c0-1.1-.9-2-2-2zM9 17H7v-7h2v7zm4 0h-2V7h2v10zm4 0h-2v-4h2v4z\"/>\n",
              "    </g>\n",
              "</svg>\n",
              "  </button>\n",
              "\n",
              "<style>\n",
              "  .colab-df-quickchart {\n",
              "      --bg-color: #E8F0FE;\n",
              "      --fill-color: #1967D2;\n",
              "      --hover-bg-color: #E2EBFA;\n",
              "      --hover-fill-color: #174EA6;\n",
              "      --disabled-fill-color: #AAA;\n",
              "      --disabled-bg-color: #DDD;\n",
              "  }\n",
              "\n",
              "  [theme=dark] .colab-df-quickchart {\n",
              "      --bg-color: #3B4455;\n",
              "      --fill-color: #D2E3FC;\n",
              "      --hover-bg-color: #434B5C;\n",
              "      --hover-fill-color: #FFFFFF;\n",
              "      --disabled-bg-color: #3B4455;\n",
              "      --disabled-fill-color: #666;\n",
              "  }\n",
              "\n",
              "  .colab-df-quickchart {\n",
              "    background-color: var(--bg-color);\n",
              "    border: none;\n",
              "    border-radius: 50%;\n",
              "    cursor: pointer;\n",
              "    display: none;\n",
              "    fill: var(--fill-color);\n",
              "    height: 32px;\n",
              "    padding: 0;\n",
              "    width: 32px;\n",
              "  }\n",
              "\n",
              "  .colab-df-quickchart:hover {\n",
              "    background-color: var(--hover-bg-color);\n",
              "    box-shadow: 0 1px 2px rgba(60, 64, 67, 0.3), 0 1px 3px 1px rgba(60, 64, 67, 0.15);\n",
              "    fill: var(--button-hover-fill-color);\n",
              "  }\n",
              "\n",
              "  .colab-df-quickchart-complete:disabled,\n",
              "  .colab-df-quickchart-complete:disabled:hover {\n",
              "    background-color: var(--disabled-bg-color);\n",
              "    fill: var(--disabled-fill-color);\n",
              "    box-shadow: none;\n",
              "  }\n",
              "\n",
              "  .colab-df-spinner {\n",
              "    border: 2px solid var(--fill-color);\n",
              "    border-color: transparent;\n",
              "    border-bottom-color: var(--fill-color);\n",
              "    animation:\n",
              "      spin 1s steps(1) infinite;\n",
              "  }\n",
              "\n",
              "  @keyframes spin {\n",
              "    0% {\n",
              "      border-color: transparent;\n",
              "      border-bottom-color: var(--fill-color);\n",
              "      border-left-color: var(--fill-color);\n",
              "    }\n",
              "    20% {\n",
              "      border-color: transparent;\n",
              "      border-left-color: var(--fill-color);\n",
              "      border-top-color: var(--fill-color);\n",
              "    }\n",
              "    30% {\n",
              "      border-color: transparent;\n",
              "      border-left-color: var(--fill-color);\n",
              "      border-top-color: var(--fill-color);\n",
              "      border-right-color: var(--fill-color);\n",
              "    }\n",
              "    40% {\n",
              "      border-color: transparent;\n",
              "      border-right-color: var(--fill-color);\n",
              "      border-top-color: var(--fill-color);\n",
              "    }\n",
              "    60% {\n",
              "      border-color: transparent;\n",
              "      border-right-color: var(--fill-color);\n",
              "    }\n",
              "    80% {\n",
              "      border-color: transparent;\n",
              "      border-right-color: var(--fill-color);\n",
              "      border-bottom-color: var(--fill-color);\n",
              "    }\n",
              "    90% {\n",
              "      border-color: transparent;\n",
              "      border-bottom-color: var(--fill-color);\n",
              "    }\n",
              "  }\n",
              "</style>\n",
              "\n",
              "  <script>\n",
              "    async function quickchart(key) {\n",
              "      const quickchartButtonEl =\n",
              "        document.querySelector('#' + key + ' button');\n",
              "      quickchartButtonEl.disabled = true;  // To prevent multiple clicks.\n",
              "      quickchartButtonEl.classList.add('colab-df-spinner');\n",
              "      try {\n",
              "        const charts = await google.colab.kernel.invokeFunction(\n",
              "            'suggestCharts', [key], {});\n",
              "      } catch (error) {\n",
              "        console.error('Error during call to suggestCharts:', error);\n",
              "      }\n",
              "      quickchartButtonEl.classList.remove('colab-df-spinner');\n",
              "      quickchartButtonEl.classList.add('colab-df-quickchart-complete');\n",
              "    }\n",
              "    (() => {\n",
              "      let quickchartButtonEl =\n",
              "        document.querySelector('#df-1bc0f31a-dd6b-4543-b4ad-5d1675ebcdfe button');\n",
              "      quickchartButtonEl.style.display =\n",
              "        google.colab.kernel.accessAllowed ? 'block' : 'none';\n",
              "    })();\n",
              "  </script>\n",
              "</div>\n",
              "\n",
              "    </div>\n",
              "  </div>\n"
            ],
            "application/vnd.google.colaboratory.intrinsic+json": {
              "type": "dataframe",
              "variable_name": "df",
              "summary": "{\n  \"name\": \"df\",\n  \"rows\": 886,\n  \"fields\": [\n    {\n      \"column\": \"age\",\n      \"properties\": {\n        \"dtype\": \"number\",\n        \"std\": 9,\n        \"min\": 29,\n        \"max\": 77,\n        \"num_unique_values\": 41,\n        \"samples\": [\n          67,\n          52,\n          58\n        ],\n        \"semantic_type\": \"\",\n        \"description\": \"\"\n      }\n    },\n    {\n      \"column\": \"sex\",\n      \"properties\": {\n        \"dtype\": \"number\",\n        \"std\": 0,\n        \"min\": 0,\n        \"max\": 1,\n        \"num_unique_values\": 2,\n        \"samples\": [\n          0,\n          1\n        ],\n        \"semantic_type\": \"\",\n        \"description\": \"\"\n      }\n    },\n    {\n      \"column\": \"cp\",\n      \"properties\": {\n        \"dtype\": \"number\",\n        \"std\": 1,\n        \"min\": 0,\n        \"max\": 3,\n        \"num_unique_values\": 4,\n        \"samples\": [\n          1,\n          3\n        ],\n        \"semantic_type\": \"\",\n        \"description\": \"\"\n      }\n    },\n    {\n      \"column\": \"trestbps\",\n      \"properties\": {\n        \"dtype\": \"number\",\n        \"std\": 16,\n        \"min\": 94,\n        \"max\": 200,\n        \"num_unique_values\": 49,\n        \"samples\": [\n          115,\n          155\n        ],\n        \"semantic_type\": \"\",\n        \"description\": \"\"\n      }\n    },\n    {\n      \"column\": \"chol\",\n      \"properties\": {\n        \"dtype\": \"number\",\n        \"std\": 47,\n        \"min\": 126,\n        \"max\": 564,\n        \"num_unique_values\": 203,\n        \"samples\": [\n          209,\n          298\n        ],\n        \"semantic_type\": \"\",\n        \"description\": \"\"\n      }\n    },\n    {\n      \"column\": \"fbs\",\n      \"properties\": {\n        \"dtype\": \"number\",\n        \"std\": 0,\n        \"min\": 0,\n        \"max\": 1,\n        \"num_unique_values\": 2,\n        \"samples\": [\n          1,\n          0\n        ],\n        \"semantic_type\": \"\",\n        \"description\": \"\"\n      }\n    },\n    {\n      \"column\": \"restecg\",\n      \"properties\": {\n        \"dtype\": \"number\",\n        \"std\": 0,\n        \"min\": 0,\n        \"max\": 2,\n        \"num_unique_values\": 3,\n        \"samples\": [\n          0,\n          1\n        ],\n        \"semantic_type\": \"\",\n        \"description\": \"\"\n      }\n    },\n    {\n      \"column\": \"thalach\",\n      \"properties\": {\n        \"dtype\": \"number\",\n        \"std\": 23,\n        \"min\": 71,\n        \"max\": 206,\n        \"num_unique_values\": 120,\n        \"samples\": [\n          206,\n          199\n        ],\n        \"semantic_type\": \"\",\n        \"description\": \"\"\n      }\n    },\n    {\n      \"column\": \"exang\",\n      \"properties\": {\n        \"dtype\": \"number\",\n        \"std\": 0,\n        \"min\": 0,\n        \"max\": 1,\n        \"num_unique_values\": 2,\n        \"samples\": [\n          1,\n          0\n        ],\n        \"semantic_type\": \"\",\n        \"description\": \"\"\n      }\n    },\n    {\n      \"column\": \"oldpeak\",\n      \"properties\": {\n        \"dtype\": \"number\",\n        \"std\": 1.147934906579765,\n        \"min\": 0.0,\n        \"max\": 6.2,\n        \"num_unique_values\": 40,\n        \"samples\": [\n          4.2,\n          1.0\n        ],\n        \"semantic_type\": \"\",\n        \"description\": \"\"\n      }\n    },\n    {\n      \"column\": \"slope\",\n      \"properties\": {\n        \"dtype\": \"number\",\n        \"std\": 0,\n        \"min\": 0,\n        \"max\": 2,\n        \"num_unique_values\": 3,\n        \"samples\": [\n          2,\n          0\n        ],\n        \"semantic_type\": \"\",\n        \"description\": \"\"\n      }\n    },\n    {\n      \"column\": \"ca\",\n      \"properties\": {\n        \"dtype\": \"number\",\n        \"std\": 1,\n        \"min\": 0,\n        \"max\": 4,\n        \"num_unique_values\": 5,\n        \"samples\": [\n          2,\n          4\n        ],\n        \"semantic_type\": \"\",\n        \"description\": \"\"\n      }\n    },\n    {\n      \"column\": \"thal\",\n      \"properties\": {\n        \"dtype\": \"number\",\n        \"std\": 0,\n        \"min\": 0,\n        \"max\": 3,\n        \"num_unique_values\": 4,\n        \"samples\": [\n          2,\n          0\n        ],\n        \"semantic_type\": \"\",\n        \"description\": \"\"\n      }\n    },\n    {\n      \"column\": \"target\",\n      \"properties\": {\n        \"dtype\": \"number\",\n        \"std\": 0,\n        \"min\": 0,\n        \"max\": 1,\n        \"num_unique_values\": 2,\n        \"samples\": [\n          1,\n          0\n        ],\n        \"semantic_type\": \"\",\n        \"description\": \"\"\n      }\n    }\n  ]\n}"
            }
          },
          "metadata": {},
          "execution_count": 5
        }
      ]
    },
    {
      "cell_type": "code",
      "source": [
        "df.describe()"
      ],
      "metadata": {
        "colab": {
          "base_uri": "https://localhost:8080/",
          "height": 300
        },
        "id": "JgXnMBhByOWf",
        "outputId": "29e443ff-f4c3-46a1-d456-2ceaec323852"
      },
      "execution_count": 6,
      "outputs": [
        {
          "output_type": "execute_result",
          "data": {
            "text/plain": [
              "              age         sex          cp    trestbps        chol         fbs  \\\n",
              "count  886.000000  886.000000  886.000000  886.000000  886.000000  886.000000   \n",
              "mean    54.007901    0.683973    1.005643  132.117381  247.497743    0.168172   \n",
              "std      9.126292    0.465186    1.024542   16.807511   47.209995    0.374230   \n",
              "min     29.000000    0.000000    0.000000   94.000000  126.000000    0.000000   \n",
              "25%     47.000000    0.000000    0.000000  120.000000  212.000000    0.000000   \n",
              "50%     54.000000    1.000000    1.000000  130.000000  245.000000    0.000000   \n",
              "75%     60.000000    1.000000    2.000000  140.000000  274.000000    0.000000   \n",
              "max     77.000000    1.000000    3.000000  200.000000  564.000000    1.000000   \n",
              "\n",
              "          restecg     thalach       exang     oldpeak       slope          ca  \\\n",
              "count  886.000000  886.000000  886.000000  886.000000  886.000000  886.000000   \n",
              "mean     0.495485  149.492099    0.310384    1.083296    1.424379    0.714447   \n",
              "std      0.526669   23.921327    0.462912    1.147935    0.556861    1.028825   \n",
              "min      0.000000   71.000000    0.000000    0.000000    0.000000    0.000000   \n",
              "25%      0.000000  133.000000    0.000000    0.000000    1.000000    0.000000   \n",
              "50%      0.000000  153.000000    0.000000    0.800000    1.000000    0.000000   \n",
              "75%      1.000000  166.000000    1.000000    1.800000    2.000000    1.000000   \n",
              "max      2.000000  206.000000    1.000000    6.200000    2.000000    4.000000   \n",
              "\n",
              "             thal      target  \n",
              "count  886.000000  886.000000  \n",
              "mean     2.278781    0.564334  \n",
              "std      0.572576    0.496124  \n",
              "min      0.000000    0.000000  \n",
              "25%      2.000000    0.000000  \n",
              "50%      2.000000    1.000000  \n",
              "75%      3.000000    1.000000  \n",
              "max      3.000000    1.000000  "
            ],
            "text/html": [
              "\n",
              "  <div id=\"df-654e264f-2d2e-4e34-b49c-3e0061d3becc\" class=\"colab-df-container\">\n",
              "    <div>\n",
              "<style scoped>\n",
              "    .dataframe tbody tr th:only-of-type {\n",
              "        vertical-align: middle;\n",
              "    }\n",
              "\n",
              "    .dataframe tbody tr th {\n",
              "        vertical-align: top;\n",
              "    }\n",
              "\n",
              "    .dataframe thead th {\n",
              "        text-align: right;\n",
              "    }\n",
              "</style>\n",
              "<table border=\"1\" class=\"dataframe\">\n",
              "  <thead>\n",
              "    <tr style=\"text-align: right;\">\n",
              "      <th></th>\n",
              "      <th>age</th>\n",
              "      <th>sex</th>\n",
              "      <th>cp</th>\n",
              "      <th>trestbps</th>\n",
              "      <th>chol</th>\n",
              "      <th>fbs</th>\n",
              "      <th>restecg</th>\n",
              "      <th>thalach</th>\n",
              "      <th>exang</th>\n",
              "      <th>oldpeak</th>\n",
              "      <th>slope</th>\n",
              "      <th>ca</th>\n",
              "      <th>thal</th>\n",
              "      <th>target</th>\n",
              "    </tr>\n",
              "  </thead>\n",
              "  <tbody>\n",
              "    <tr>\n",
              "      <th>count</th>\n",
              "      <td>886.000000</td>\n",
              "      <td>886.000000</td>\n",
              "      <td>886.000000</td>\n",
              "      <td>886.000000</td>\n",
              "      <td>886.000000</td>\n",
              "      <td>886.000000</td>\n",
              "      <td>886.000000</td>\n",
              "      <td>886.000000</td>\n",
              "      <td>886.000000</td>\n",
              "      <td>886.000000</td>\n",
              "      <td>886.000000</td>\n",
              "      <td>886.000000</td>\n",
              "      <td>886.000000</td>\n",
              "      <td>886.000000</td>\n",
              "    </tr>\n",
              "    <tr>\n",
              "      <th>mean</th>\n",
              "      <td>54.007901</td>\n",
              "      <td>0.683973</td>\n",
              "      <td>1.005643</td>\n",
              "      <td>132.117381</td>\n",
              "      <td>247.497743</td>\n",
              "      <td>0.168172</td>\n",
              "      <td>0.495485</td>\n",
              "      <td>149.492099</td>\n",
              "      <td>0.310384</td>\n",
              "      <td>1.083296</td>\n",
              "      <td>1.424379</td>\n",
              "      <td>0.714447</td>\n",
              "      <td>2.278781</td>\n",
              "      <td>0.564334</td>\n",
              "    </tr>\n",
              "    <tr>\n",
              "      <th>std</th>\n",
              "      <td>9.126292</td>\n",
              "      <td>0.465186</td>\n",
              "      <td>1.024542</td>\n",
              "      <td>16.807511</td>\n",
              "      <td>47.209995</td>\n",
              "      <td>0.374230</td>\n",
              "      <td>0.526669</td>\n",
              "      <td>23.921327</td>\n",
              "      <td>0.462912</td>\n",
              "      <td>1.147935</td>\n",
              "      <td>0.556861</td>\n",
              "      <td>1.028825</td>\n",
              "      <td>0.572576</td>\n",
              "      <td>0.496124</td>\n",
              "    </tr>\n",
              "    <tr>\n",
              "      <th>min</th>\n",
              "      <td>29.000000</td>\n",
              "      <td>0.000000</td>\n",
              "      <td>0.000000</td>\n",
              "      <td>94.000000</td>\n",
              "      <td>126.000000</td>\n",
              "      <td>0.000000</td>\n",
              "      <td>0.000000</td>\n",
              "      <td>71.000000</td>\n",
              "      <td>0.000000</td>\n",
              "      <td>0.000000</td>\n",
              "      <td>0.000000</td>\n",
              "      <td>0.000000</td>\n",
              "      <td>0.000000</td>\n",
              "      <td>0.000000</td>\n",
              "    </tr>\n",
              "    <tr>\n",
              "      <th>25%</th>\n",
              "      <td>47.000000</td>\n",
              "      <td>0.000000</td>\n",
              "      <td>0.000000</td>\n",
              "      <td>120.000000</td>\n",
              "      <td>212.000000</td>\n",
              "      <td>0.000000</td>\n",
              "      <td>0.000000</td>\n",
              "      <td>133.000000</td>\n",
              "      <td>0.000000</td>\n",
              "      <td>0.000000</td>\n",
              "      <td>1.000000</td>\n",
              "      <td>0.000000</td>\n",
              "      <td>2.000000</td>\n",
              "      <td>0.000000</td>\n",
              "    </tr>\n",
              "    <tr>\n",
              "      <th>50%</th>\n",
              "      <td>54.000000</td>\n",
              "      <td>1.000000</td>\n",
              "      <td>1.000000</td>\n",
              "      <td>130.000000</td>\n",
              "      <td>245.000000</td>\n",
              "      <td>0.000000</td>\n",
              "      <td>0.000000</td>\n",
              "      <td>153.000000</td>\n",
              "      <td>0.000000</td>\n",
              "      <td>0.800000</td>\n",
              "      <td>1.000000</td>\n",
              "      <td>0.000000</td>\n",
              "      <td>2.000000</td>\n",
              "      <td>1.000000</td>\n",
              "    </tr>\n",
              "    <tr>\n",
              "      <th>75%</th>\n",
              "      <td>60.000000</td>\n",
              "      <td>1.000000</td>\n",
              "      <td>2.000000</td>\n",
              "      <td>140.000000</td>\n",
              "      <td>274.000000</td>\n",
              "      <td>0.000000</td>\n",
              "      <td>1.000000</td>\n",
              "      <td>166.000000</td>\n",
              "      <td>1.000000</td>\n",
              "      <td>1.800000</td>\n",
              "      <td>2.000000</td>\n",
              "      <td>1.000000</td>\n",
              "      <td>3.000000</td>\n",
              "      <td>1.000000</td>\n",
              "    </tr>\n",
              "    <tr>\n",
              "      <th>max</th>\n",
              "      <td>77.000000</td>\n",
              "      <td>1.000000</td>\n",
              "      <td>3.000000</td>\n",
              "      <td>200.000000</td>\n",
              "      <td>564.000000</td>\n",
              "      <td>1.000000</td>\n",
              "      <td>2.000000</td>\n",
              "      <td>206.000000</td>\n",
              "      <td>1.000000</td>\n",
              "      <td>6.200000</td>\n",
              "      <td>2.000000</td>\n",
              "      <td>4.000000</td>\n",
              "      <td>3.000000</td>\n",
              "      <td>1.000000</td>\n",
              "    </tr>\n",
              "  </tbody>\n",
              "</table>\n",
              "</div>\n",
              "    <div class=\"colab-df-buttons\">\n",
              "\n",
              "  <div class=\"colab-df-container\">\n",
              "    <button class=\"colab-df-convert\" onclick=\"convertToInteractive('df-654e264f-2d2e-4e34-b49c-3e0061d3becc')\"\n",
              "            title=\"Convert this dataframe to an interactive table.\"\n",
              "            style=\"display:none;\">\n",
              "\n",
              "  <svg xmlns=\"http://www.w3.org/2000/svg\" height=\"24px\" viewBox=\"0 -960 960 960\">\n",
              "    <path d=\"M120-120v-720h720v720H120Zm60-500h600v-160H180v160Zm220 220h160v-160H400v160Zm0 220h160v-160H400v160ZM180-400h160v-160H180v160Zm440 0h160v-160H620v160ZM180-180h160v-160H180v160Zm440 0h160v-160H620v160Z\"/>\n",
              "  </svg>\n",
              "    </button>\n",
              "\n",
              "  <style>\n",
              "    .colab-df-container {\n",
              "      display:flex;\n",
              "      gap: 12px;\n",
              "    }\n",
              "\n",
              "    .colab-df-convert {\n",
              "      background-color: #E8F0FE;\n",
              "      border: none;\n",
              "      border-radius: 50%;\n",
              "      cursor: pointer;\n",
              "      display: none;\n",
              "      fill: #1967D2;\n",
              "      height: 32px;\n",
              "      padding: 0 0 0 0;\n",
              "      width: 32px;\n",
              "    }\n",
              "\n",
              "    .colab-df-convert:hover {\n",
              "      background-color: #E2EBFA;\n",
              "      box-shadow: 0px 1px 2px rgba(60, 64, 67, 0.3), 0px 1px 3px 1px rgba(60, 64, 67, 0.15);\n",
              "      fill: #174EA6;\n",
              "    }\n",
              "\n",
              "    .colab-df-buttons div {\n",
              "      margin-bottom: 4px;\n",
              "    }\n",
              "\n",
              "    [theme=dark] .colab-df-convert {\n",
              "      background-color: #3B4455;\n",
              "      fill: #D2E3FC;\n",
              "    }\n",
              "\n",
              "    [theme=dark] .colab-df-convert:hover {\n",
              "      background-color: #434B5C;\n",
              "      box-shadow: 0px 1px 3px 1px rgba(0, 0, 0, 0.15);\n",
              "      filter: drop-shadow(0px 1px 2px rgba(0, 0, 0, 0.3));\n",
              "      fill: #FFFFFF;\n",
              "    }\n",
              "  </style>\n",
              "\n",
              "    <script>\n",
              "      const buttonEl =\n",
              "        document.querySelector('#df-654e264f-2d2e-4e34-b49c-3e0061d3becc button.colab-df-convert');\n",
              "      buttonEl.style.display =\n",
              "        google.colab.kernel.accessAllowed ? 'block' : 'none';\n",
              "\n",
              "      async function convertToInteractive(key) {\n",
              "        const element = document.querySelector('#df-654e264f-2d2e-4e34-b49c-3e0061d3becc');\n",
              "        const dataTable =\n",
              "          await google.colab.kernel.invokeFunction('convertToInteractive',\n",
              "                                                    [key], {});\n",
              "        if (!dataTable) return;\n",
              "\n",
              "        const docLinkHtml = 'Like what you see? Visit the ' +\n",
              "          '<a target=\"_blank\" href=https://colab.research.google.com/notebooks/data_table.ipynb>data table notebook</a>'\n",
              "          + ' to learn more about interactive tables.';\n",
              "        element.innerHTML = '';\n",
              "        dataTable['output_type'] = 'display_data';\n",
              "        await google.colab.output.renderOutput(dataTable, element);\n",
              "        const docLink = document.createElement('div');\n",
              "        docLink.innerHTML = docLinkHtml;\n",
              "        element.appendChild(docLink);\n",
              "      }\n",
              "    </script>\n",
              "  </div>\n",
              "\n",
              "\n",
              "<div id=\"df-b6ac5961-8d6d-48b1-a879-f9cfb49a1744\">\n",
              "  <button class=\"colab-df-quickchart\" onclick=\"quickchart('df-b6ac5961-8d6d-48b1-a879-f9cfb49a1744')\"\n",
              "            title=\"Suggest charts\"\n",
              "            style=\"display:none;\">\n",
              "\n",
              "<svg xmlns=\"http://www.w3.org/2000/svg\" height=\"24px\"viewBox=\"0 0 24 24\"\n",
              "     width=\"24px\">\n",
              "    <g>\n",
              "        <path d=\"M19 3H5c-1.1 0-2 .9-2 2v14c0 1.1.9 2 2 2h14c1.1 0 2-.9 2-2V5c0-1.1-.9-2-2-2zM9 17H7v-7h2v7zm4 0h-2V7h2v10zm4 0h-2v-4h2v4z\"/>\n",
              "    </g>\n",
              "</svg>\n",
              "  </button>\n",
              "\n",
              "<style>\n",
              "  .colab-df-quickchart {\n",
              "      --bg-color: #E8F0FE;\n",
              "      --fill-color: #1967D2;\n",
              "      --hover-bg-color: #E2EBFA;\n",
              "      --hover-fill-color: #174EA6;\n",
              "      --disabled-fill-color: #AAA;\n",
              "      --disabled-bg-color: #DDD;\n",
              "  }\n",
              "\n",
              "  [theme=dark] .colab-df-quickchart {\n",
              "      --bg-color: #3B4455;\n",
              "      --fill-color: #D2E3FC;\n",
              "      --hover-bg-color: #434B5C;\n",
              "      --hover-fill-color: #FFFFFF;\n",
              "      --disabled-bg-color: #3B4455;\n",
              "      --disabled-fill-color: #666;\n",
              "  }\n",
              "\n",
              "  .colab-df-quickchart {\n",
              "    background-color: var(--bg-color);\n",
              "    border: none;\n",
              "    border-radius: 50%;\n",
              "    cursor: pointer;\n",
              "    display: none;\n",
              "    fill: var(--fill-color);\n",
              "    height: 32px;\n",
              "    padding: 0;\n",
              "    width: 32px;\n",
              "  }\n",
              "\n",
              "  .colab-df-quickchart:hover {\n",
              "    background-color: var(--hover-bg-color);\n",
              "    box-shadow: 0 1px 2px rgba(60, 64, 67, 0.3), 0 1px 3px 1px rgba(60, 64, 67, 0.15);\n",
              "    fill: var(--button-hover-fill-color);\n",
              "  }\n",
              "\n",
              "  .colab-df-quickchart-complete:disabled,\n",
              "  .colab-df-quickchart-complete:disabled:hover {\n",
              "    background-color: var(--disabled-bg-color);\n",
              "    fill: var(--disabled-fill-color);\n",
              "    box-shadow: none;\n",
              "  }\n",
              "\n",
              "  .colab-df-spinner {\n",
              "    border: 2px solid var(--fill-color);\n",
              "    border-color: transparent;\n",
              "    border-bottom-color: var(--fill-color);\n",
              "    animation:\n",
              "      spin 1s steps(1) infinite;\n",
              "  }\n",
              "\n",
              "  @keyframes spin {\n",
              "    0% {\n",
              "      border-color: transparent;\n",
              "      border-bottom-color: var(--fill-color);\n",
              "      border-left-color: var(--fill-color);\n",
              "    }\n",
              "    20% {\n",
              "      border-color: transparent;\n",
              "      border-left-color: var(--fill-color);\n",
              "      border-top-color: var(--fill-color);\n",
              "    }\n",
              "    30% {\n",
              "      border-color: transparent;\n",
              "      border-left-color: var(--fill-color);\n",
              "      border-top-color: var(--fill-color);\n",
              "      border-right-color: var(--fill-color);\n",
              "    }\n",
              "    40% {\n",
              "      border-color: transparent;\n",
              "      border-right-color: var(--fill-color);\n",
              "      border-top-color: var(--fill-color);\n",
              "    }\n",
              "    60% {\n",
              "      border-color: transparent;\n",
              "      border-right-color: var(--fill-color);\n",
              "    }\n",
              "    80% {\n",
              "      border-color: transparent;\n",
              "      border-right-color: var(--fill-color);\n",
              "      border-bottom-color: var(--fill-color);\n",
              "    }\n",
              "    90% {\n",
              "      border-color: transparent;\n",
              "      border-bottom-color: var(--fill-color);\n",
              "    }\n",
              "  }\n",
              "</style>\n",
              "\n",
              "  <script>\n",
              "    async function quickchart(key) {\n",
              "      const quickchartButtonEl =\n",
              "        document.querySelector('#' + key + ' button');\n",
              "      quickchartButtonEl.disabled = true;  // To prevent multiple clicks.\n",
              "      quickchartButtonEl.classList.add('colab-df-spinner');\n",
              "      try {\n",
              "        const charts = await google.colab.kernel.invokeFunction(\n",
              "            'suggestCharts', [key], {});\n",
              "      } catch (error) {\n",
              "        console.error('Error during call to suggestCharts:', error);\n",
              "      }\n",
              "      quickchartButtonEl.classList.remove('colab-df-spinner');\n",
              "      quickchartButtonEl.classList.add('colab-df-quickchart-complete');\n",
              "    }\n",
              "    (() => {\n",
              "      let quickchartButtonEl =\n",
              "        document.querySelector('#df-b6ac5961-8d6d-48b1-a879-f9cfb49a1744 button');\n",
              "      quickchartButtonEl.style.display =\n",
              "        google.colab.kernel.accessAllowed ? 'block' : 'none';\n",
              "    })();\n",
              "  </script>\n",
              "</div>\n",
              "\n",
              "    </div>\n",
              "  </div>\n"
            ],
            "application/vnd.google.colaboratory.intrinsic+json": {
              "type": "dataframe",
              "summary": "{\n  \"name\": \"df\",\n  \"rows\": 8,\n  \"fields\": [\n    {\n      \"column\": \"age\",\n      \"properties\": {\n        \"dtype\": \"number\",\n        \"std\": 297.27773107638876,\n        \"min\": 9.126291856251974,\n        \"max\": 886.0,\n        \"num_unique_values\": 8,\n        \"samples\": [\n          54.0079006772009,\n          54.0,\n          886.0\n        ],\n        \"semantic_type\": \"\",\n        \"description\": \"\"\n      }\n    },\n    {\n      \"column\": \"sex\",\n      \"properties\": {\n        \"dtype\": \"number\",\n        \"std\": 313.03901936878424,\n        \"min\": 0.0,\n        \"max\": 886.0,\n        \"num_unique_values\": 5,\n        \"samples\": [\n          0.6839729119638827,\n          1.0,\n          0.4651862094203805\n        ],\n        \"semantic_type\": \"\",\n        \"description\": \"\"\n      }\n    },\n    {\n      \"column\": \"cp\",\n      \"properties\": {\n        \"dtype\": \"number\",\n        \"std\": 312.8442822465786,\n        \"min\": 0.0,\n        \"max\": 886.0,\n        \"num_unique_values\": 7,\n        \"samples\": [\n          886.0,\n          1.0056433408577878,\n          2.0\n        ],\n        \"semantic_type\": \"\",\n        \"description\": \"\"\n      }\n    },\n    {\n      \"column\": \"trestbps\",\n      \"properties\": {\n        \"dtype\": \"number\",\n        \"std\": 275.97402743417064,\n        \"min\": 16.80751084206933,\n        \"max\": 886.0,\n        \"num_unique_values\": 8,\n        \"samples\": [\n          132.117381489842,\n          130.0,\n          886.0\n        ],\n        \"semantic_type\": \"\",\n        \"description\": \"\"\n      }\n    },\n    {\n      \"column\": \"chol\",\n      \"properties\": {\n        \"dtype\": \"number\",\n        \"std\": 271.6054181884652,\n        \"min\": 47.209994818024335,\n        \"max\": 886.0,\n        \"num_unique_values\": 8,\n        \"samples\": [\n          247.49774266365688,\n          245.0,\n          886.0\n        ],\n        \"semantic_type\": \"\",\n        \"description\": \"\"\n      }\n    },\n    {\n      \"column\": \"fbs\",\n      \"properties\": {\n        \"dtype\": \"number\",\n        \"std\": 313.1705899918582,\n        \"min\": 0.0,\n        \"max\": 886.0,\n        \"num_unique_values\": 5,\n        \"samples\": [\n          0.16817155756207675,\n          1.0,\n          0.3742298123555202\n        ],\n        \"semantic_type\": \"\",\n        \"description\": \"\"\n      }\n    },\n    {\n      \"column\": \"restecg\",\n      \"properties\": {\n        \"dtype\": \"number\",\n        \"std\": 313.0458874131354,\n        \"min\": 0.0,\n        \"max\": 886.0,\n        \"num_unique_values\": 6,\n        \"samples\": [\n          886.0,\n          0.49548532731376976,\n          2.0\n        ],\n        \"semantic_type\": \"\",\n        \"description\": \"\"\n      }\n    },\n    {\n      \"column\": \"thalach\",\n      \"properties\": {\n        \"dtype\": \"number\",\n        \"std\": 273.6641045282874,\n        \"min\": 23.921326907418663,\n        \"max\": 886.0,\n        \"num_unique_values\": 8,\n        \"samples\": [\n          149.4920993227991,\n          153.0,\n          886.0\n        ],\n        \"semantic_type\": \"\",\n        \"description\": \"\"\n      }\n    },\n    {\n      \"column\": \"exang\",\n      \"properties\": {\n        \"dtype\": \"number\",\n        \"std\": 313.10850794150707,\n        \"min\": 0.0,\n        \"max\": 886.0,\n        \"num_unique_values\": 5,\n        \"samples\": [\n          0.31038374717832956,\n          1.0,\n          0.462912017760964\n        ],\n        \"semantic_type\": \"\",\n        \"description\": \"\"\n      }\n    },\n    {\n      \"column\": \"oldpeak\",\n      \"properties\": {\n        \"dtype\": \"number\",\n        \"std\": 312.6974079787091,\n        \"min\": 0.0,\n        \"max\": 886.0,\n        \"num_unique_values\": 7,\n        \"samples\": [\n          886.0,\n          1.0832957110609482,\n          1.8\n        ],\n        \"semantic_type\": \"\",\n        \"description\": \"\"\n      }\n    },\n    {\n      \"column\": \"slope\",\n      \"properties\": {\n        \"dtype\": \"number\",\n        \"std\": 312.8459300631879,\n        \"min\": 0.0,\n        \"max\": 886.0,\n        \"num_unique_values\": 6,\n        \"samples\": [\n          886.0,\n          1.4243792325056432,\n          2.0\n        ],\n        \"semantic_type\": \"\",\n        \"description\": \"\"\n      }\n    },\n    {\n      \"column\": \"ca\",\n      \"properties\": {\n        \"dtype\": \"number\",\n        \"std\": 312.9104733383948,\n        \"min\": 0.0,\n        \"max\": 886.0,\n        \"num_unique_values\": 6,\n        \"samples\": [\n          886.0,\n          0.7144469525959368,\n          4.0\n        ],\n        \"semantic_type\": \"\",\n        \"description\": \"\"\n      }\n    },\n    {\n      \"column\": \"thal\",\n      \"properties\": {\n        \"dtype\": \"number\",\n        \"std\": 312.6010237798857,\n        \"min\": 0.0,\n        \"max\": 886.0,\n        \"num_unique_values\": 6,\n        \"samples\": [\n          886.0,\n          2.278781038374718,\n          3.0\n        ],\n        \"semantic_type\": \"\",\n        \"description\": \"\"\n      }\n    },\n    {\n      \"column\": \"target\",\n      \"properties\": {\n        \"dtype\": \"number\",\n        \"std\": 313.0434958940148,\n        \"min\": 0.0,\n        \"max\": 886.0,\n        \"num_unique_values\": 5,\n        \"samples\": [\n          0.5643340857787811,\n          1.0,\n          0.49612391051858884\n        ],\n        \"semantic_type\": \"\",\n        \"description\": \"\"\n      }\n    }\n  ]\n}"
            }
          },
          "metadata": {},
          "execution_count": 6
        }
      ]
    },
    {
      "cell_type": "code",
      "source": [
        "df.info()"
      ],
      "metadata": {
        "colab": {
          "base_uri": "https://localhost:8080/"
        },
        "id": "eh55P8LkymoP",
        "outputId": "72e9e0f9-b4d3-4622-c236-03851173a9e8"
      },
      "execution_count": 7,
      "outputs": [
        {
          "output_type": "stream",
          "name": "stdout",
          "text": [
            "<class 'pandas.core.frame.DataFrame'>\n",
            "RangeIndex: 886 entries, 0 to 885\n",
            "Data columns (total 14 columns):\n",
            " #   Column    Non-Null Count  Dtype  \n",
            "---  ------    --------------  -----  \n",
            " 0   age       886 non-null    int64  \n",
            " 1   sex       886 non-null    int64  \n",
            " 2   cp        886 non-null    int64  \n",
            " 3   trestbps  886 non-null    int64  \n",
            " 4   chol      886 non-null    int64  \n",
            " 5   fbs       886 non-null    int64  \n",
            " 6   restecg   886 non-null    int64  \n",
            " 7   thalach   886 non-null    int64  \n",
            " 8   exang     886 non-null    int64  \n",
            " 9   oldpeak   886 non-null    float64\n",
            " 10  slope     886 non-null    int64  \n",
            " 11  ca        886 non-null    int64  \n",
            " 12  thal      886 non-null    int64  \n",
            " 13  target    886 non-null    int64  \n",
            "dtypes: float64(1), int64(13)\n",
            "memory usage: 97.0 KB\n"
          ]
        }
      ]
    },
    {
      "cell_type": "markdown",
      "source": [
        "## Data Analysis"
      ],
      "metadata": {
        "collapsed": false,
        "id": "mk4IrtwS8Kow"
      }
    },
    {
      "cell_type": "markdown",
      "source": [
        "Firstly, lets see how many numeric columns are there."
      ],
      "metadata": {
        "id": "i5T4AodPBsW5"
      }
    },
    {
      "cell_type": "code",
      "source": [
        "numeric_col = df.select_dtypes(include = ['number']).columns\n",
        "len(numeric_col)"
      ],
      "metadata": {
        "colab": {
          "base_uri": "https://localhost:8080/"
        },
        "id": "GbLaGcD2zEon",
        "outputId": "0addf403-7c19-4861-bc52-e3c39550ce7a"
      },
      "execution_count": 8,
      "outputs": [
        {
          "output_type": "execute_result",
          "data": {
            "text/plain": [
              "14"
            ]
          },
          "metadata": {},
          "execution_count": 8
        }
      ]
    },
    {
      "cell_type": "markdown",
      "source": [
        "Oops, all columns are numeric! but according to prior knowledge, we can consider these columns are numeic:\n",
        "\n",
        "- **RestingBP**: Patient's resting blood pressure, range: 94–200 mmHg.  \n",
        "- **Cholesterol**: Measured cholesterol level, range: 126–564 mg/dl.  \n",
        "- **thalach**: Patient's maximum recorded heart rate.  \n",
        "- **Oldpeak**: Stress level during exercise, range: 0 to 6.2.\n",
        "\n",
        "\n",
        "And the rest seem to be categorical, for example:\n",
        "\n",
        "- **Age**: Patient's age in years, from 29 to 77.  \n",
        "- **Sex**: Gender of patient: 0 = male, 1 = female.  \n",
        "- **ChestPainType**: Chest pain level: 0 to 3 severity scale.  \n",
        "- **FastingBS**: Fasting blood sugar >120mg/dl = 1, else 0.  \n",
        "- **RestingECG**: ECG result, severity coded from 0 to 2.  \n",
        "- **ExerciseAngina**: Angina during exercise: 1 = yes, 0 = no.  \n",
        "- **ST_Slope**: Slope during exercise: up, flat, or down (0–2).  \n",
        "- **ca**: Count of major vessels colored by fluoroscopy (0–3).  \n",
        "- **thal**: Thalassemia: 0 = normal, 1 = fixed, 2 = reversible.  \n",
        "- **HeartDisease**: 1 = heart disease, 0 = no heart disease.\n",
        "\n",
        "Let's visualize these four numeric values to assess the validity of the claims."
      ],
      "metadata": {
        "id": "VoQFW7VWB9mq"
      }
    },
    {
      "cell_type": "code",
      "source": [
        "import matplotlib.pyplot as plt\n",
        "import seaborn as sns\n",
        "#column to distplot\n",
        "dist_col = [\"trestbps\",\"chol\",\"oldpeak\",\"thalach\"]\n",
        "\n",
        "#column to barplot\n",
        "bar_col = [column for column in df.columns if column not in dist_col]\n",
        "\n",
        "fig, axis = plt.subplots(2,2,figsize= (7,7))\n",
        "\n",
        "for i,col in enumerate(dist_col):\n",
        "    sns.histplot(df[col], ax=axis[i//2, i%2], kde=True)\n",
        "\n",
        "\n",
        "plt.subplots_adjust(wspace=0.3, hspace=0.3)\n",
        "plt.show()\n",
        "\n"
      ],
      "metadata": {
        "colab": {
          "base_uri": "https://localhost:8080/",
          "height": 619
        },
        "id": "3SxrDEhSyUUm",
        "outputId": "a0153474-5913-47f3-c2c9-c6d79638e16f"
      },
      "execution_count": 9,
      "outputs": [
        {
          "output_type": "display_data",
          "data": {
            "text/plain": [
              "<Figure size 700x700 with 4 Axes>"
            ],
            "image/png": "[encoded data removed]"
          },
          "metadata": {}
        }
      ]
    },
    {
      "cell_type": "code",
      "source": [
        "df[dist_col].describe()"
      ],
      "metadata": {
        "colab": {
          "base_uri": "https://localhost:8080/",
          "height": 300
        },
        "id": "qkTHg_hkHBsF",
        "outputId": "a2de993f-c28e-4297-b605-a94e41c6e1eb"
      },
      "execution_count": 10,
      "outputs": [
        {
          "output_type": "execute_result",
          "data": {
            "text/plain": [
              "         trestbps        chol     oldpeak     thalach\n",
              "count  886.000000  886.000000  886.000000  886.000000\n",
              "mean   132.117381  247.497743    1.083296  149.492099\n",
              "std     16.807511   47.209995    1.147935   23.921327\n",
              "min     94.000000  126.000000    0.000000   71.000000\n",
              "25%    120.000000  212.000000    0.000000  133.000000\n",
              "50%    130.000000  245.000000    0.800000  153.000000\n",
              "75%    140.000000  274.000000    1.800000  166.000000\n",
              "max    200.000000  564.000000    6.200000  206.000000"
            ],
            "text/html": [
              "\n",
              "  <div id=\"df-da19b090-7cbe-4f2e-968e-214ae94e5acf\" class=\"colab-df-container\">\n",
              "    <div>\n",
              "<style scoped>\n",
              "    .dataframe tbody tr th:only-of-type {\n",
              "        vertical-align: middle;\n",
              "    }\n",
              "\n",
              "    .dataframe tbody tr th {\n",
              "        vertical-align: top;\n",
              "    }\n",
              "\n",
              "    .dataframe thead th {\n",
              "        text-align: right;\n",
              "    }\n",
              "</style>\n",
              "<table border=\"1\" class=\"dataframe\">\n",
              "  <thead>\n",
              "    <tr style=\"text-align: right;\">\n",
              "      <th></th>\n",
              "      <th>trestbps</th>\n",
              "      <th>chol</th>\n",
              "      <th>oldpeak</th>\n",
              "      <th>thalach</th>\n",
              "    </tr>\n",
              "  </thead>\n",
              "  <tbody>\n",
              "    <tr>\n",
              "      <th>count</th>\n",
              "      <td>886.000000</td>\n",
              "      <td>886.000000</td>\n",
              "      <td>886.000000</td>\n",
              "      <td>886.000000</td>\n",
              "    </tr>\n",
              "    <tr>\n",
              "      <th>mean</th>\n",
              "      <td>132.117381</td>\n",
              "      <td>247.497743</td>\n",
              "      <td>1.083296</td>\n",
              "      <td>149.492099</td>\n",
              "    </tr>\n",
              "    <tr>\n",
              "      <th>std</th>\n",
              "      <td>16.807511</td>\n",
              "      <td>47.209995</td>\n",
              "      <td>1.147935</td>\n",
              "      <td>23.921327</td>\n",
              "    </tr>\n",
              "    <tr>\n",
              "      <th>min</th>\n",
              "      <td>94.000000</td>\n",
              "      <td>126.000000</td>\n",
              "      <td>0.000000</td>\n",
              "      <td>71.000000</td>\n",
              "    </tr>\n",
              "    <tr>\n",
              "      <th>25%</th>\n",
              "      <td>120.000000</td>\n",
              "      <td>212.000000</td>\n",
              "      <td>0.000000</td>\n",
              "      <td>133.000000</td>\n",
              "    </tr>\n",
              "    <tr>\n",
              "      <th>50%</th>\n",
              "      <td>130.000000</td>\n",
              "      <td>245.000000</td>\n",
              "      <td>0.800000</td>\n",
              "      <td>153.000000</td>\n",
              "    </tr>\n",
              "    <tr>\n",
              "      <th>75%</th>\n",
              "      <td>140.000000</td>\n",
              "      <td>274.000000</td>\n",
              "      <td>1.800000</td>\n",
              "      <td>166.000000</td>\n",
              "    </tr>\n",
              "    <tr>\n",
              "      <th>max</th>\n",
              "      <td>200.000000</td>\n",
              "      <td>564.000000</td>\n",
              "      <td>6.200000</td>\n",
              "      <td>206.000000</td>\n",
              "    </tr>\n",
              "  </tbody>\n",
              "</table>\n",
              "</div>\n",
              "    <div class=\"colab-df-buttons\">\n",
              "\n",
              "  <div class=\"colab-df-container\">\n",
              "    <button class=\"colab-df-convert\" onclick=\"convertToInteractive('df-da19b090-7cbe-4f2e-968e-214ae94e5acf')\"\n",
              "            title=\"Convert this dataframe to an interactive table.\"\n",
              "            style=\"display:none;\">\n",
              "\n",
              "  <svg xmlns=\"http://www.w3.org/2000/svg\" height=\"24px\" viewBox=\"0 -960 960 960\">\n",
              "    <path d=\"M120-120v-720h720v720H120Zm60-500h600v-160H180v160Zm220 220h160v-160H400v160Zm0 220h160v-160H400v160ZM180-400h160v-160H180v160Zm440 0h160v-160H620v160ZM180-180h160v-160H180v160Zm440 0h160v-160H620v160Z\"/>\n",
              "  </svg>\n",
              "    </button>\n",
              "\n",
              "  <style>\n",
              "    .colab-df-container {\n",
              "      display:flex;\n",
              "      gap: 12px;\n",
              "    }\n",
              "\n",
              "    .colab-df-convert {\n",
              "      background-color: #E8F0FE;\n",
              "      border: none;\n",
              "      border-radius: 50%;\n",
              "      cursor: pointer;\n",
              "      display: none;\n",
              "      fill: #1967D2;\n",
              "      height: 32px;\n",
              "      padding: 0 0 0 0;\n",
              "      width: 32px;\n",
              "    }\n",
              "\n",
              "    .colab-df-convert:hover {\n",
              "      background-color: #E2EBFA;\n",
              "      box-shadow: 0px 1px 2px rgba(60, 64, 67, 0.3), 0px 1px 3px 1px rgba(60, 64, 67, 0.15);\n",
              "      fill: #174EA6;\n",
              "    }\n",
              "\n",
              "    .colab-df-buttons div {\n",
              "      margin-bottom: 4px;\n",
              "    }\n",
              "\n",
              "    [theme=dark] .colab-df-convert {\n",
              "      background-color: #3B4455;\n",
              "      fill: #D2E3FC;\n",
              "    }\n",
              "\n",
              "    [theme=dark] .colab-df-convert:hover {\n",
              "      background-color: #434B5C;\n",
              "      box-shadow: 0px 1px 3px 1px rgba(0, 0, 0, 0.15);\n",
              "      filter: drop-shadow(0px 1px 2px rgba(0, 0, 0, 0.3));\n",
              "      fill: #FFFFFF;\n",
              "    }\n",
              "  </style>\n",
              "\n",
              "    <script>\n",
              "      const buttonEl =\n",
              "        document.querySelector('#df-da19b090-7cbe-4f2e-968e-214ae94e5acf button.colab-df-convert');\n",
              "      buttonEl.style.display =\n",
              "        google.colab.kernel.accessAllowed ? 'block' : 'none';\n",
              "\n",
              "      async function convertToInteractive(key) {\n",
              "        const element = document.querySelector('#df-da19b090-7cbe-4f2e-968e-214ae94e5acf');\n",
              "        const dataTable =\n",
              "          await google.colab.kernel.invokeFunction('convertToInteractive',\n",
              "                                                    [key], {});\n",
              "        if (!dataTable) return;\n",
              "\n",
              "        const docLinkHtml = 'Like what you see? Visit the ' +\n",
              "          '<a target=\"_blank\" href=https://colab.research.google.com/notebooks/data_table.ipynb>data table notebook</a>'\n",
              "          + ' to learn more about interactive tables.';\n",
              "        element.innerHTML = '';\n",
              "        dataTable['output_type'] = 'display_data';\n",
              "        await google.colab.output.renderOutput(dataTable, element);\n",
              "        const docLink = document.createElement('div');\n",
              "        docLink.innerHTML = docLinkHtml;\n",
              "        element.appendChild(docLink);\n",
              "      }\n",
              "    </script>\n",
              "  </div>\n",
              "\n",
              "\n",
              "<div id=\"df-6bd8b093-6ce7-45a2-ad4e-9e3e3d4ceec7\">\n",
              "  <button class=\"colab-df-quickchart\" onclick=\"quickchart('df-6bd8b093-6ce7-45a2-ad4e-9e3e3d4ceec7')\"\n",
              "            title=\"Suggest charts\"\n",
              "            style=\"display:none;\">\n",
              "\n",
              "<svg xmlns=\"http://www.w3.org/2000/svg\" height=\"24px\"viewBox=\"0 0 24 24\"\n",
              "     width=\"24px\">\n",
              "    <g>\n",
              "        <path d=\"M19 3H5c-1.1 0-2 .9-2 2v14c0 1.1.9 2 2 2h14c1.1 0 2-.9 2-2V5c0-1.1-.9-2-2-2zM9 17H7v-7h2v7zm4 0h-2V7h2v10zm4 0h-2v-4h2v4z\"/>\n",
              "    </g>\n",
              "</svg>\n",
              "  </button>\n",
              "\n",
              "<style>\n",
              "  .colab-df-quickchart {\n",
              "      --bg-color: #E8F0FE;\n",
              "      --fill-color: #1967D2;\n",
              "      --hover-bg-color: #E2EBFA;\n",
              "      --hover-fill-color: #174EA6;\n",
              "      --disabled-fill-color: #AAA;\n",
              "      --disabled-bg-color: #DDD;\n",
              "  }\n",
              "\n",
              "  [theme=dark] .colab-df-quickchart {\n",
              "      --bg-color: #3B4455;\n",
              "      --fill-color: #D2E3FC;\n",
              "      --hover-bg-color: #434B5C;\n",
              "      --hover-fill-color: #FFFFFF;\n",
              "      --disabled-bg-color: #3B4455;\n",
              "      --disabled-fill-color: #666;\n",
              "  }\n",
              "\n",
              "  .colab-df-quickchart {\n",
              "    background-color: var(--bg-color);\n",
              "    border: none;\n",
              "    border-radius: 50%;\n",
              "    cursor: pointer;\n",
              "    display: none;\n",
              "    fill: var(--fill-color);\n",
              "    height: 32px;\n",
              "    padding: 0;\n",
              "    width: 32px;\n",
              "  }\n",
              "\n",
              "  .colab-df-quickchart:hover {\n",
              "    background-color: var(--hover-bg-color);\n",
              "    box-shadow: 0 1px 2px rgba(60, 64, 67, 0.3), 0 1px 3px 1px rgba(60, 64, 67, 0.15);\n",
              "    fill: var(--button-hover-fill-color);\n",
              "  }\n",
              "\n",
              "  .colab-df-quickchart-complete:disabled,\n",
              "  .colab-df-quickchart-complete:disabled:hover {\n",
              "    background-color: var(--disabled-bg-color);\n",
              "    fill: var(--disabled-fill-color);\n",
              "    box-shadow: none;\n",
              "  }\n",
              "\n",
              "  .colab-df-spinner {\n",
              "    border: 2px solid var(--fill-color);\n",
              "    border-color: transparent;\n",
              "    border-bottom-color: var(--fill-color);\n",
              "    animation:\n",
              "      spin 1s steps(1) infinite;\n",
              "  }\n",
              "\n",
              "  @keyframes spin {\n",
              "    0% {\n",
              "      border-color: transparent;\n",
              "      border-bottom-color: var(--fill-color);\n",
              "      border-left-color: var(--fill-color);\n",
              "    }\n",
              "    20% {\n",
              "      border-color: transparent;\n",
              "      border-left-color: var(--fill-color);\n",
              "      border-top-color: var(--fill-color);\n",
              "    }\n",
              "    30% {\n",
              "      border-color: transparent;\n",
              "      border-left-color: var(--fill-color);\n",
              "      border-top-color: var(--fill-color);\n",
              "      border-right-color: var(--fill-color);\n",
              "    }\n",
              "    40% {\n",
              "      border-color: transparent;\n",
              "      border-right-color: var(--fill-color);\n",
              "      border-top-color: var(--fill-color);\n",
              "    }\n",
              "    60% {\n",
              "      border-color: transparent;\n",
              "      border-right-color: var(--fill-color);\n",
              "    }\n",
              "    80% {\n",
              "      border-color: transparent;\n",
              "      border-right-color: var(--fill-color);\n",
              "      border-bottom-color: var(--fill-color);\n",
              "    }\n",
              "    90% {\n",
              "      border-color: transparent;\n",
              "      border-bottom-color: var(--fill-color);\n",
              "    }\n",
              "  }\n",
              "</style>\n",
              "\n",
              "  <script>\n",
              "    async function quickchart(key) {\n",
              "      const quickchartButtonEl =\n",
              "        document.querySelector('#' + key + ' button');\n",
              "      quickchartButtonEl.disabled = true;  // To prevent multiple clicks.\n",
              "      quickchartButtonEl.classList.add('colab-df-spinner');\n",
              "      try {\n",
              "        const charts = await google.colab.kernel.invokeFunction(\n",
              "            'suggestCharts', [key], {});\n",
              "      } catch (error) {\n",
              "        console.error('Error during call to suggestCharts:', error);\n",
              "      }\n",
              "      quickchartButtonEl.classList.remove('colab-df-spinner');\n",
              "      quickchartButtonEl.classList.add('colab-df-quickchart-complete');\n",
              "    }\n",
              "    (() => {\n",
              "      let quickchartButtonEl =\n",
              "        document.querySelector('#df-6bd8b093-6ce7-45a2-ad4e-9e3e3d4ceec7 button');\n",
              "      quickchartButtonEl.style.display =\n",
              "        google.colab.kernel.accessAllowed ? 'block' : 'none';\n",
              "    })();\n",
              "  </script>\n",
              "</div>\n",
              "\n",
              "    </div>\n",
              "  </div>\n"
            ],
            "application/vnd.google.colaboratory.intrinsic+json": {
              "type": "dataframe",
              "summary": "{\n  \"name\": \"df[dist_col]\",\n  \"rows\": 8,\n  \"fields\": [\n    {\n      \"column\": \"trestbps\",\n      \"properties\": {\n        \"dtype\": \"number\",\n        \"std\": 275.97402743417064,\n        \"min\": 16.80751084206933,\n        \"max\": 886.0,\n        \"num_unique_values\": 8,\n        \"samples\": [\n          132.117381489842,\n          130.0,\n          886.0\n        ],\n        \"semantic_type\": \"\",\n        \"description\": \"\"\n      }\n    },\n    {\n      \"column\": \"chol\",\n      \"properties\": {\n        \"dtype\": \"number\",\n        \"std\": 271.6054181884652,\n        \"min\": 47.209994818024335,\n        \"max\": 886.0,\n        \"num_unique_values\": 8,\n        \"samples\": [\n          247.49774266365688,\n          245.0,\n          886.0\n        ],\n        \"semantic_type\": \"\",\n        \"description\": \"\"\n      }\n    },\n    {\n      \"column\": \"oldpeak\",\n      \"properties\": {\n        \"dtype\": \"number\",\n        \"std\": 312.6974079787091,\n        \"min\": 0.0,\n        \"max\": 886.0,\n        \"num_unique_values\": 7,\n        \"samples\": [\n          886.0,\n          1.0832957110609482,\n          1.8\n        ],\n        \"semantic_type\": \"\",\n        \"description\": \"\"\n      }\n    },\n    {\n      \"column\": \"thalach\",\n      \"properties\": {\n        \"dtype\": \"number\",\n        \"std\": 273.6641045282874,\n        \"min\": 23.921326907418663,\n        \"max\": 886.0,\n        \"num_unique_values\": 8,\n        \"samples\": [\n          149.4920993227991,\n          153.0,\n          886.0\n        ],\n        \"semantic_type\": \"\",\n        \"description\": \"\"\n      }\n    }\n  ]\n}"
            }
          },
          "metadata": {},
          "execution_count": 10
        }
      ]
    },
    {
      "cell_type": "markdown",
      "source": [
        "As above, we may be able to deduce some trends:\n",
        "\n",
        "* RestingBP: Most of Patient's resting blood pressure varies between 20 and 150. The distribution are right-skew, and may contains several outliers.\n",
        "\n",
        "* Cholesterol: cholesterol was ranging from about 180 to over 350,  right-skewed, likely to contain outliers as well.\n",
        "\n",
        "* thalach: Patient's maximum recorded heart rate was centered at about 150 , left-skew.\n",
        "\n",
        "* Oldpeak: The figure indicates that stress levels during exercise were generally low, showing a left-skewed distribution, with most values concentrated between 0 and 1, gradually decreasing up to 4."
      ],
      "metadata": {
        "id": "3MyHkXTBE4hv"
      }
    },
    {
      "cell_type": "code",
      "source": [
        "sns.displot(df['age'], kde = True)"
      ],
      "metadata": {
        "colab": {
          "base_uri": "https://localhost:8080/",
          "height": 524
        },
        "id": "3vyYOuv86l8O",
        "outputId": "fe99d326-150f-4855-8817-e05fc2bfbe90"
      },
      "execution_count": 11,
      "outputs": [
        {
          "output_type": "execute_result",
          "data": {
            "text/plain": [
              "<seaborn.axisgrid.FacetGrid at 0x7e0cf6f83190>"
            ]
          },
          "metadata": {},
          "execution_count": 11
        },
        {
          "output_type": "display_data",
          "data": {
            "text/plain": [
              "<Figure size 500x500 with 1 Axes>"
            ],
            "image/png": "[encoded data removed]"
          },
          "metadata": {}
        }
      ]
    },
    {
      "cell_type": "markdown",
      "source": [
        "Age: This is the attribute that describes the age of the patient. There is data type  int64 , the highest value is 29, and the lowest is 77. Let's visualize some categorical features"
      ],
      "metadata": {
        "id": "QqiXkzkk8K8l"
      }
    },
    {
      "cell_type": "code",
      "source": [
        "fig, axis = plt.subplots(3,3,figsize = (20,20))\n",
        "\n",
        "for i,col in enumerate(bar_col[1:]):\n",
        "  sns.countplot(data = df, x = col, hue =col, ax = axis[i//3,i%3] )\n",
        "\n",
        "plt.subplots_adjust(wspace=0.3, hspace=0.3)\n",
        "plt.show()"
      ],
      "metadata": {
        "colab": {
          "base_uri": "https://localhost:8080/",
          "height": 1000
        },
        "id": "OoGKzZRg7iSG",
        "outputId": "146f2804-bfc9-4053-bf54-7962624c32e6"
      },
      "execution_count": 12,
      "outputs": [
        {
          "output_type": "display_data",
          "data": {
            "text/plain": [
              "<Figure size 2000x2000 with 9 Axes>"
            ],
            "image/png": "[encoded data removed]"
          },
          "metadata": {}
        }
      ]
    },
    {
      "cell_type": "code",
      "source": [
        "sns.heatmap(df.corr())"
      ],
      "metadata": {
        "colab": {
          "base_uri": "https://localhost:8080/",
          "height": 496
        },
        "id": "c26PcAYX_ksd",
        "outputId": "9c686eeb-71d5-4855-e1b8-17fc2762209c"
      },
      "execution_count": 13,
      "outputs": [
        {
          "output_type": "execute_result",
          "data": {
            "text/plain": [
              "<Axes: >"
            ]
          },
          "metadata": {},
          "execution_count": 13
        },
        {
          "output_type": "display_data",
          "data": {
            "text/plain": [
              "<Figure size 640x480 with 2 Axes>"
            ],
            "image/png": "[encoded data removed]"
          },
          "metadata": {}
        }
      ]
    },
    {
      "cell_type": "markdown",
      "source": [
        "## Preprocessing"
      ],
      "metadata": {
        "collapsed": false,
        "id": "flqsM83K8Kox"
      }
    },
    {
      "cell_type": "code",
      "source": [
        "from sklearn.preprocessing import LabelEncoder\n",
        "\n",
        "def apply_feature_engineering(df):\n",
        "    \"\"\"\n",
        "    Apply all feature engineering to transform your data into number\n",
        "    :param df: pandas DataFrame\n",
        "    :return: pandas DataFrame\n",
        "    \"\"\"\n",
        "    # Encode education volume as labels\n",
        "    label_encoder = LabelEncoder()\n",
        "    df.loc[:, \"education\"] = label_encoder.fit_transform(df[\"education\"]) # 0 1 2 3 4\n",
        "\n",
        "    cat_cols = [col for col in df.columns if df[col].dtypes == \"O\"] # get categorical columns\n",
        "    cat_cols.remove(\"y\") # Remove target\n",
        "    # -- Method 1: categorical features -> numberic features using get_dummies()\n",
        "    temp = pd.get_dummies(df[cat_cols])\n",
        "    df.drop(cat_cols, axis=1, inplace=True) # Remove category columns\n",
        "    df = pd.concat([df, temp], axis=1) # nối dataframe data với các giá trị dummy của feature col\n",
        "\n",
        "    return df\n"
      ],
      "metadata": {
        "id": "5q7gdmj-J92m"
      },
      "execution_count": 14,
      "outputs": []
    },
    {
      "cell_type": "code",
      "source": [
        "df.isnull().sum().sum()"
      ],
      "metadata": {
        "colab": {
          "base_uri": "https://localhost:8080/"
        },
        "id": "hEaGSOHzKKKv",
        "outputId": "a816f19b-56fc-489e-c910-9fe74ff23bd8"
      },
      "execution_count": 15,
      "outputs": [
        {
          "output_type": "execute_result",
          "data": {
            "text/plain": [
              "np.int64(0)"
            ]
          },
          "metadata": {},
          "execution_count": 15
        }
      ]
    },
    {
      "cell_type": "code",
      "execution_count": 16,
      "outputs": [],
      "source": [
        "from sklearn.impute import SimpleImputer\n",
        "\n",
        "\n",
        "def preprocessing_data(df):\n",
        "    \"\"\"\n",
        "    Preprocess your data (eg. Drop null datapoints or fill missing data)\n",
        "    :param df: pandas DataFrame\n",
        "    :return: pandas DataFrame\n",
        "    \"\"\"\n",
        "    # Todo: preprocess data\n",
        "    #print out the null count in every colummns\n",
        "    print(df.isnull().sum())\n",
        "    total_na = int(df.isnull().sum().sum())\n",
        "    print(f\"total null : {total_na}\")\n",
        "\n",
        "    # ignore if there is no missing values\n",
        "    if (total_na):\n",
        "      if (total_na/len(df)) < 0.1:\n",
        "        df.dropna()\n",
        "      else:  # using imputer instead\n",
        "        imputer = SimpleImputer(strategy = 'median')\n",
        "        df[dist_col] = imputer.fit_transform(df[dist_col])\n",
        "        df[bar_col] = imputer.fit_transform(df[bar_col])\n",
        "\n",
        "    return df"
      ],
      "metadata": {
        "id": "BsLrFNP-8Kox"
      }
    },
    {
      "cell_type": "code",
      "execution_count": 17,
      "outputs": [
        {
          "output_type": "stream",
          "name": "stdout",
          "text": [
            "age         0\n",
            "sex         0\n",
            "cp          0\n",
            "trestbps    0\n",
            "chol        0\n",
            "fbs         0\n",
            "restecg     0\n",
            "thalach     0\n",
            "exang       0\n",
            "oldpeak     0\n",
            "slope       0\n",
            "ca          0\n",
            "thal        0\n",
            "target      0\n",
            "dtype: int64\n",
            "total null : 0\n"
          ]
        }
      ],
      "source": [
        "df = preprocessing_data(df.copy())"
      ],
      "metadata": {
        "id": "dei_gmKb8Koy",
        "colab": {
          "base_uri": "https://localhost:8080/"
        },
        "outputId": "cbc2a08a-9538-4a5c-96b3-c5b02339dd26"
      }
    },
    {
      "cell_type": "markdown",
      "source": [
        "Great there is no missing values either !"
      ],
      "metadata": {
        "id": "rbqoCljbNMBZ"
      }
    },
    {
      "cell_type": "markdown",
      "source": [
        "## Feature Engineering"
      ],
      "metadata": {
        "collapsed": false,
        "id": "Zi5s_ZP48Koy"
      }
    },
    {
      "cell_type": "code",
      "execution_count": 18,
      "outputs": [
        {
          "output_type": "stream",
          "name": "stdout",
          "text": [
            "Normalize data !\n",
            "dummizeee data !\n"
          ]
        },
        {
          "output_type": "execute_result",
          "data": {
            "text/plain": [
              "<Axes: >"
            ]
          },
          "metadata": {},
          "execution_count": 18
        },
        {
          "output_type": "display_data",
          "data": {
            "text/plain": [
              "<Figure size 640x480 with 2 Axes>"
            ],
            "image/png": "[encoded data removed]"
          },
          "metadata": {}
        }
      ],
      "source": [
        "import seaborn as sns\n",
        "from sklearn.preprocessing import StandardScaler\n",
        "import pandas as pd\n",
        "\n",
        "def apply_feature_engineering(df):\n",
        "    \"\"\"\n",
        "    Apply all feature engineering to transform your data into number\n",
        "    :param df: pandas DataFrame\n",
        "    :return: pandas DataFrame\n",
        "    \"\"\"\n",
        "\n",
        "    #remove\n",
        "\n",
        "    # Normalize numerical data using StandardScaler (Z-score)\n",
        "    scaler = StandardScaler()\n",
        "    df[dist_col] = scaler.fit_transform(df[dist_col])\n",
        "    print(\"Normalize data !\")\n",
        "\n",
        "    # As mentioned above, we will transform these categorical columns using one-hot encoding\n",
        "    temp = pd.get_dummies(df[bar_col])\n",
        "    df.drop(columns=bar_col, axis=1, inplace=True)\n",
        "    df = pd.concat([df, temp], axis=1)\n",
        "    print(\"dummizeee data !\")\n",
        "\n",
        "    return df\n",
        "\n",
        "# Apply to your DataFrame\n",
        "df = apply_feature_engineering(df)\n",
        "\n",
        "# Plot heatmap\n",
        "sns.heatmap(df.corr())\n"
      ],
      "metadata": {
        "id": "6VQVAmTx8Koy",
        "colab": {
          "base_uri": "https://localhost:8080/",
          "height": 532
        },
        "outputId": "ea526516-4fcf-4e24-a479-6b3839850311"
      }
    },
    {
      "cell_type": "code",
      "execution_count": 19,
      "outputs": [
        {
          "output_type": "stream",
          "name": "stdout",
          "text": [
            "total: 886\n",
            "X : 13 columns \n",
            "df: 14 columns\n"
          ]
        }
      ],
      "source": [
        "def prepare_X_y(df):\n",
        "    \"\"\"\n",
        "    Feature engineering and create X and y\n",
        "    :param df: pandas dataframe\n",
        "    :return: (X, y) output feature matrix (dataframe), target (series)\n",
        "    \"\"\"\n",
        "    # Todo: Split data into X and y (using sklearn train_test_split). Return two dataframes\n",
        "    X = df.drop(columns=[\"target\"], axis = 1)\n",
        "    y = df[\"target\"]\n",
        "    return X, y\n",
        "\n",
        "X, y = prepare_X_y(df)\n",
        "print(f\"total: {len(X)}\\nX : {len(X.columns)} columns \\ndf: {len(df.columns)} columns\")"
      ],
      "metadata": {
        "id": "kWoZ3iLO8Koz",
        "outputId": "0dc47c82-eb11-434f-95c2-0dcced51e290",
        "colab": {
          "base_uri": "https://localhost:8080/"
        }
      }
    },
    {
      "cell_type": "markdown",
      "source": [
        "# Apply machine learning model"
      ],
      "metadata": {
        "collapsed": false,
        "id": "prlZ55S68Koz"
      }
    },
    {
      "cell_type": "markdown",
      "source": [
        "## Train-test split"
      ],
      "metadata": {
        "collapsed": false,
        "id": "uwkqQnmZ8Ko0"
      }
    },
    {
      "cell_type": "code",
      "execution_count": 20,
      "outputs": [],
      "source": [
        "from sklearn.model_selection import train_test_split\n",
        "RANDOM_STATE = 42\n",
        "TRAIN_SIZE = 0.7\n",
        "\n",
        "trainX, testX ,trainY, testY = train_test_split(X, y, train_size=TRAIN_SIZE, random_state=RANDOM_STATE)"
      ],
      "metadata": {
        "id": "AgohjEzw8Ko0"
      }
    },
    {
      "cell_type": "markdown",
      "source": [
        "## Build SK-learn model"
      ],
      "metadata": {
        "collapsed": false,
        "id": "Xy5y6NEO8Ko0"
      }
    },
    {
      "cell_type": "markdown",
      "source": [
        "**By default**"
      ],
      "metadata": {
        "id": "K4KNdx6OD6YR"
      }
    },
    {
      "cell_type": "code",
      "source": [
        "from prettytable import PrettyTable\n",
        "\n",
        "def print_tabble(report):\n",
        "    table = PrettyTable()\n",
        "    table.field_names = [\"Class\", \"Precision\", \"Recall\", \"F1-Score\", \"Support\"]\n",
        "\n",
        "    # Class-level metrics (binary classification: class 0 and 1)\n",
        "    for label in [\"0\", \"1\"]:\n",
        "        row = report[label]\n",
        "        table.add_row([\n",
        "            label,\n",
        "            f\"{row['precision']:.2f}\",\n",
        "            f\"{row['recall']:.2f}\",\n",
        "            f\"{row['f1-score']:.2f}\",\n",
        "            f\"{row['support']:.0f}\"\n",
        "        ])\n",
        "\n",
        "    # Macro average\n",
        "    macro = report[\"macro avg\"]\n",
        "    table.add_row([\n",
        "        \"Macro Avg\",\n",
        "        f\"{macro['precision']:.2f}\",\n",
        "        f\"{macro['recall']:.2f}\",\n",
        "        f\"{macro['f1-score']:.2f}\",\n",
        "        f\"{macro['support']:.0f}\"\n",
        "    ])\n",
        "\n",
        "    # Weighted average\n",
        "    weighted = report[\"weighted avg\"]\n",
        "    table.add_row([\n",
        "        \"Weighted Avg\",\n",
        "        f\"{weighted['precision']:.2f}\",\n",
        "        f\"{weighted['recall']:.2f}\",\n",
        "        f\"{weighted['f1-score']:.2f}\",\n",
        "        f\"{weighted['support']:.0f}\"\n",
        "    ])\n",
        "\n",
        "    # Accuracy row\n",
        "    total_support = int(report['0']['support'] + report['1']['support'])\n",
        "    table.add_row([\n",
        "        \"Accuracy\", \"-\", \"-\", f\"{report['accuracy']:.2f}\", total_support\n",
        "    ])\n",
        "\n",
        "    print(table)\n"
      ],
      "metadata": {
        "id": "e0GR4kx-gkT-"
      },
      "execution_count": 21,
      "outputs": []
    },
    {
      "cell_type": "code",
      "execution_count": 27,
      "outputs": [],
      "source": [
        "from sklearn.metrics import classification_report\n",
        "from sklearn.pipeline import make_pipeline\n",
        "from sklearn.preprocessing import StandardScaler\n",
        "from sklearn.linear_model import LogisticRegression\n",
        "\n",
        "def build_model(X, y,solver='liblinear', random_state= 42, penalty = 'l2'):\n",
        "    \"\"\"\n",
        "    Design your model and train it (including your best params)\n",
        "    :param X: feature matrix\n",
        "    :param y: target\n",
        "    :return: trained model (pipeline)\n",
        "    \"\"\"\n",
        "\n",
        "    # Create pipeline with scaler and logistic regression\n",
        "    model = make_pipeline(\n",
        "        StandardScaler(),\n",
        "        LogisticRegression(solver=solver,\n",
        "                           random_state=random_state,\n",
        "                           penalty = penalty))\n",
        "\n",
        "    # Train the model\n",
        "    model.fit(X, y)\n",
        "\n",
        "    return model\n",
        "\n",
        "\n",
        "def calculate_performance(y_true, y_pred):\n",
        "    \"\"\"\n",
        "    :param y_true: ground truth values\n",
        "    :param y_pred: predictions\n",
        "    :return:\n",
        "    \"\"\"\n",
        "    # Todo: return your error value like accuracy, f1score, ...\n",
        "    report = classification_report(y_true, y_pred, output_dict=True)\n",
        "\n",
        "    print_tabble(report)  # Make sure this is defined above\n",
        "    print(\"precision\", report[\"weighted avg\"]['precision'])\n",
        "    print(\"recall\", report[\"weighted avg\"]['recall'])\n",
        "    print(\"accuracy\", report['accuracy'])\n",
        "    print(\"F1\", report[\"weighted avg\"]['f1-score'])\n",
        "\n",
        "    # Todo: Only choose one of them as your score for the question 7\n",
        "    main_score = report[\"weighted avg\"]['f1-score']\n",
        "    return main_score\n",
        "\n",
        "model = build_model(trainX, trainY)\n",
        "# Compare on training dataset\n",
        "pred = model.predict(testX)"
      ],
      "metadata": {
        "id": "lge0OhiI8Ko1"
      }
    },
    {
      "cell_type": "code",
      "source": [
        "calculate_performance(testY,pred)"
      ],
      "metadata": {
        "id": "iHrvP1CsjImc",
        "outputId": "08372900-6ca0-448b-8566-cee2033f3992",
        "colab": {
          "base_uri": "https://localhost:8080/"
        }
      },
      "execution_count": 28,
      "outputs": [
        {
          "output_type": "stream",
          "name": "stdout",
          "text": [
            "+--------------+-----------+--------+----------+---------+\n",
            "|    Class     | Precision | Recall | F1-Score | Support |\n",
            "+--------------+-----------+--------+----------+---------+\n",
            "|      0       |    0.96   |  0.94  |   0.95   |   114   |\n",
            "|      1       |    0.95   |  0.97  |   0.96   |   152   |\n",
            "|  Macro Avg   |    0.95   |  0.95  |   0.95   |   266   |\n",
            "| Weighted Avg |    0.95   |  0.95  |   0.95   |   266   |\n",
            "|   Accuracy   |     -     |   -    |   0.95   |   266   |\n",
            "+--------------+-----------+--------+----------+---------+\n",
            "precision 0.9548933209647497\n",
            "recall 0.9548872180451128\n",
            "accuracy 0.9548872180451128\n",
            "F1 0.9548350313576759\n"
          ]
        },
        {
          "output_type": "execute_result",
          "data": {
            "text/plain": [
              "0.9548350313576759"
            ]
          },
          "metadata": {},
          "execution_count": 28
        }
      ]
    },
    {
      "cell_type": "markdown",
      "source": [
        "**Trying several penalty**"
      ],
      "metadata": {
        "id": "2Eu8lVEHD_AG"
      }
    },
    {
      "cell_type": "code",
      "source": [
        "solvers = ['lbfgs', 'liblinear', 'newton-cg', 'newton-cholesky', 'saga']\n",
        "\n",
        "for solver in solvers:\n",
        "  print(f\"\\nsolver = {solver}\")\n",
        "  model = build_model(trainX, trainY, solver = solver)\n",
        "  # Compare on training dataset\n",
        "  pred = model.predict(testX)\n",
        "  calculate_performance(testY,pred)"
      ],
      "metadata": {
        "id": "U_mcAiFJFaZg",
        "outputId": "caba9d17-287b-48aa-8442-56d0609beb76",
        "colab": {
          "base_uri": "https://localhost:8080/"
        }
      },
      "execution_count": 31,
      "outputs": [
        {
          "output_type": "stream",
          "name": "stdout",
          "text": [
            "\n",
            "solver = lbfgs\n",
            "+--------------+-----------+--------+----------+---------+\n",
            "|    Class     | Precision | Recall | F1-Score | Support |\n",
            "+--------------+-----------+--------+----------+---------+\n",
            "|      0       |    0.96   |  0.94  |   0.95   |   114   |\n",
            "|      1       |    0.95   |  0.97  |   0.96   |   152   |\n",
            "|  Macro Avg   |    0.95   |  0.95  |   0.95   |   266   |\n",
            "| Weighted Avg |    0.95   |  0.95  |   0.95   |   266   |\n",
            "|   Accuracy   |     -     |   -    |   0.95   |   266   |\n",
            "+--------------+-----------+--------+----------+---------+\n",
            "precision 0.9548933209647497\n",
            "recall 0.9548872180451128\n",
            "accuracy 0.9548872180451128\n",
            "F1 0.9548350313576759\n",
            "\n",
            "solver = liblinear\n",
            "+--------------+-----------+--------+----------+---------+\n",
            "|    Class     | Precision | Recall | F1-Score | Support |\n",
            "+--------------+-----------+--------+----------+---------+\n",
            "|      0       |    0.96   |  0.94  |   0.95   |   114   |\n",
            "|      1       |    0.95   |  0.97  |   0.96   |   152   |\n",
            "|  Macro Avg   |    0.95   |  0.95  |   0.95   |   266   |\n",
            "| Weighted Avg |    0.95   |  0.95  |   0.95   |   266   |\n",
            "|   Accuracy   |     -     |   -    |   0.95   |   266   |\n",
            "+--------------+-----------+--------+----------+---------+\n",
            "precision 0.9548933209647497\n",
            "recall 0.9548872180451128\n",
            "accuracy 0.9548872180451128\n",
            "F1 0.9548350313576759\n",
            "\n",
            "solver = newton-cg\n",
            "+--------------+-----------+--------+----------+---------+\n",
            "|    Class     | Precision | Recall | F1-Score | Support |\n",
            "+--------------+-----------+--------+----------+---------+\n",
            "|      0       |    0.96   |  0.94  |   0.95   |   114   |\n",
            "|      1       |    0.95   |  0.97  |   0.96   |   152   |\n",
            "|  Macro Avg   |    0.95   |  0.95  |   0.95   |   266   |\n",
            "| Weighted Avg |    0.95   |  0.95  |   0.95   |   266   |\n",
            "|   Accuracy   |     -     |   -    |   0.95   |   266   |\n",
            "+--------------+-----------+--------+----------+---------+\n",
            "precision 0.9548933209647497\n",
            "recall 0.9548872180451128\n",
            "accuracy 0.9548872180451128\n",
            "F1 0.9548350313576759\n",
            "\n",
            "solver = newton-cholesky\n",
            "+--------------+-----------+--------+----------+---------+\n",
            "|    Class     | Precision | Recall | F1-Score | Support |\n",
            "+--------------+-----------+--------+----------+---------+\n",
            "|      0       |    0.96   |  0.94  |   0.95   |   114   |\n",
            "|      1       |    0.95   |  0.97  |   0.96   |   152   |\n",
            "|  Macro Avg   |    0.95   |  0.95  |   0.95   |   266   |\n",
            "| Weighted Avg |    0.95   |  0.95  |   0.95   |   266   |\n",
            "|   Accuracy   |     -     |   -    |   0.95   |   266   |\n",
            "+--------------+-----------+--------+----------+---------+\n",
            "precision 0.9548933209647497\n",
            "recall 0.9548872180451128\n",
            "accuracy 0.9548872180451128\n",
            "F1 0.9548350313576759\n",
            "\n",
            "solver = saga\n",
            "+--------------+-----------+--------+----------+---------+\n",
            "|    Class     | Precision | Recall | F1-Score | Support |\n",
            "+--------------+-----------+--------+----------+---------+\n",
            "|      0       |    0.96   |  0.94  |   0.95   |   114   |\n",
            "|      1       |    0.95   |  0.97  |   0.96   |   152   |\n",
            "|  Macro Avg   |    0.95   |  0.95  |   0.95   |   266   |\n",
            "| Weighted Avg |    0.95   |  0.95  |   0.95   |   266   |\n",
            "|   Accuracy   |     -     |   -    |   0.95   |   266   |\n",
            "+--------------+-----------+--------+----------+---------+\n",
            "precision 0.9548933209647497\n",
            "recall 0.9548872180451128\n",
            "accuracy 0.9548872180451128\n",
            "F1 0.9548350313576759\n"
          ]
        }
      ]
    },
    {
      "cell_type": "code",
      "source": [
        "penalties = ['l1', 'l2','elasticnet',None]\n",
        "\n",
        "for penalty in penalties:\n",
        "  print(f\"\\penalty = {penalty}\")\n",
        "  model = build_model(trainX, trainY, penalty=penalty, solver = 'saga')\n",
        "  # Compare on training dataset\n",
        "  pred = model.predict(testX)\n",
        "  calculate_performance(testY,pred)"
      ],
      "metadata": {
        "id": "aAH-b2yUGqVX",
        "outputId": "d2883b19-8bd2-414d-8fbe-74d9182d93f2",
        "colab": {
          "base_uri": "https://localhost:8080/",
          "height": 896
        }
      },
      "execution_count": 34,
      "outputs": [
        {
          "output_type": "stream",
          "name": "stdout",
          "text": [
            "\\penalty = l1\n",
            "+--------------+-----------+--------+----------+---------+\n",
            "|    Class     | Precision | Recall | F1-Score | Support |\n",
            "+--------------+-----------+--------+----------+---------+\n",
            "|      0       |    0.96   |  0.94  |   0.95   |   114   |\n",
            "|      1       |    0.95   |  0.97  |   0.96   |   152   |\n",
            "|  Macro Avg   |    0.95   |  0.95  |   0.95   |   266   |\n",
            "| Weighted Avg |    0.95   |  0.95  |   0.95   |   266   |\n",
            "|   Accuracy   |     -     |   -    |   0.95   |   266   |\n",
            "+--------------+-----------+--------+----------+---------+\n",
            "precision 0.9548933209647497\n",
            "recall 0.9548872180451128\n",
            "accuracy 0.9548872180451128\n",
            "F1 0.9548350313576759\n",
            "\\penalty = l2\n",
            "+--------------+-----------+--------+----------+---------+\n",
            "|    Class     | Precision | Recall | F1-Score | Support |\n",
            "+--------------+-----------+--------+----------+---------+\n",
            "|      0       |    0.96   |  0.94  |   0.95   |   114   |\n",
            "|      1       |    0.95   |  0.97  |   0.96   |   152   |\n",
            "|  Macro Avg   |    0.95   |  0.95  |   0.95   |   266   |\n",
            "| Weighted Avg |    0.95   |  0.95  |   0.95   |   266   |\n",
            "|   Accuracy   |     -     |   -    |   0.95   |   266   |\n",
            "+--------------+-----------+--------+----------+---------+\n",
            "precision 0.9548933209647497\n",
            "recall 0.9548872180451128\n",
            "accuracy 0.9548872180451128\n",
            "F1 0.9548350313576759\n",
            "\\penalty = elasticnet\n"
          ]
        },
        {
          "output_type": "error",
          "ename": "ValueError",
          "evalue": "l1_ratio must be specified when penalty is elasticnet.",
          "traceback": [
            "\u001b[0;31m---------------------------------------------------------------------------\u001b[0m",
            "\u001b[0;31mValueError\u001b[0m                                Traceback (most recent call last)",
            "\u001b[0;32m<ipython-input-34-74a26c5ad3a9>\u001b[0m in \u001b[0;36m<cell line: 0>\u001b[0;34m()\u001b[0m\n\u001b[1;32m      3\u001b[0m \u001b[0;32mfor\u001b[0m \u001b[0mpenalty\u001b[0m \u001b[0;32min\u001b[0m \u001b[0mpenalties\u001b[0m\u001b[0;34m:\u001b[0m\u001b[0;34m\u001b[0m\u001b[0;34m\u001b[0m\u001b[0m\n\u001b[1;32m      4\u001b[0m   \u001b[0mprint\u001b[0m\u001b[0;34m(\u001b[0m\u001b[0;34mf\"\\penalty = {penalty}\"\u001b[0m\u001b[0;34m)\u001b[0m\u001b[0;34m\u001b[0m\u001b[0;34m\u001b[0m\u001b[0m\n\u001b[0;32m----> 5\u001b[0;31m   \u001b[0mmodel\u001b[0m \u001b[0;34m=\u001b[0m \u001b[0mbuild_model\u001b[0m\u001b[0;34m(\u001b[0m\u001b[0mtrainX\u001b[0m\u001b[0;34m,\u001b[0m \u001b[0mtrainY\u001b[0m\u001b[0;34m,\u001b[0m \u001b[0mpenalty\u001b[0m\u001b[0;34m=\u001b[0m\u001b[0mpenalty\u001b[0m\u001b[0;34m,\u001b[0m \u001b[0msolver\u001b[0m \u001b[0;34m=\u001b[0m \u001b[0;34m'saga'\u001b[0m\u001b[0;34m)\u001b[0m\u001b[0;34m\u001b[0m\u001b[0;34m\u001b[0m\u001b[0m\n\u001b[0m\u001b[1;32m      6\u001b[0m   \u001b[0;31m# Compare on training dataset\u001b[0m\u001b[0;34m\u001b[0m\u001b[0;34m\u001b[0m\u001b[0m\n\u001b[1;32m      7\u001b[0m   \u001b[0mpred\u001b[0m \u001b[0;34m=\u001b[0m \u001b[0mmodel\u001b[0m\u001b[0;34m.\u001b[0m\u001b[0mpredict\u001b[0m\u001b[0;34m(\u001b[0m\u001b[0mtestX\u001b[0m\u001b[0;34m)\u001b[0m\u001b[0;34m\u001b[0m\u001b[0;34m\u001b[0m\u001b[0m\n",
            "\u001b[0;32m<ipython-input-27-b44047bfbcb6>\u001b[0m in \u001b[0;36mbuild_model\u001b[0;34m(X, y, solver, random_state, penalty)\u001b[0m\n\u001b[1;32m     20\u001b[0m \u001b[0;34m\u001b[0m\u001b[0m\n\u001b[1;32m     21\u001b[0m     \u001b[0;31m# Train the model\u001b[0m\u001b[0;34m\u001b[0m\u001b[0;34m\u001b[0m\u001b[0m\n\u001b[0;32m---> 22\u001b[0;31m     \u001b[0mmodel\u001b[0m\u001b[0;34m.\u001b[0m\u001b[0mfit\u001b[0m\u001b[0;34m(\u001b[0m\u001b[0mX\u001b[0m\u001b[0;34m,\u001b[0m \u001b[0my\u001b[0m\u001b[0;34m)\u001b[0m\u001b[0;34m\u001b[0m\u001b[0;34m\u001b[0m\u001b[0m\n\u001b[0m\u001b[1;32m     23\u001b[0m \u001b[0;34m\u001b[0m\u001b[0m\n\u001b[1;32m     24\u001b[0m     \u001b[0;32mreturn\u001b[0m \u001b[0mmodel\u001b[0m\u001b[0;34m\u001b[0m\u001b[0;34m\u001b[0m\u001b[0m\n",
            "\u001b[0;32m/usr/local/lib/python3.11/dist-packages/sklearn/base.py\u001b[0m in \u001b[0;36mwrapper\u001b[0;34m(estimator, *args, **kwargs)\u001b[0m\n\u001b[1;32m   1387\u001b[0m                 )\n\u001b[1;32m   1388\u001b[0m             ):\n\u001b[0;32m-> 1389\u001b[0;31m                 \u001b[0;32mreturn\u001b[0m \u001b[0mfit_method\u001b[0m\u001b[0;34m(\u001b[0m\u001b[0mestimator\u001b[0m\u001b[0;34m,\u001b[0m \u001b[0;34m*\u001b[0m\u001b[0margs\u001b[0m\u001b[0;34m,\u001b[0m \u001b[0;34m**\u001b[0m\u001b[0mkwargs\u001b[0m\u001b[0;34m)\u001b[0m\u001b[0;34m\u001b[0m\u001b[0;34m\u001b[0m\u001b[0m\n\u001b[0m\u001b[1;32m   1390\u001b[0m \u001b[0;34m\u001b[0m\u001b[0m\n\u001b[1;32m   1391\u001b[0m         \u001b[0;32mreturn\u001b[0m \u001b[0mwrapper\u001b[0m\u001b[0;34m\u001b[0m\u001b[0;34m\u001b[0m\u001b[0m\n",
            "\u001b[0;32m/usr/local/lib/python3.11/dist-packages/sklearn/pipeline.py\u001b[0m in \u001b[0;36mfit\u001b[0;34m(self, X, y, **params)\u001b[0m\n\u001b[1;32m    660\u001b[0m                     \u001b[0mall_params\u001b[0m\u001b[0;34m=\u001b[0m\u001b[0mparams\u001b[0m\u001b[0;34m,\u001b[0m\u001b[0;34m\u001b[0m\u001b[0;34m\u001b[0m\u001b[0m\n\u001b[1;32m    661\u001b[0m                 )\n\u001b[0;32m--> 662\u001b[0;31m                 \u001b[0mself\u001b[0m\u001b[0;34m.\u001b[0m\u001b[0m_final_estimator\u001b[0m\u001b[0;34m.\u001b[0m\u001b[0mfit\u001b[0m\u001b[0;34m(\u001b[0m\u001b[0mXt\u001b[0m\u001b[0;34m,\u001b[0m \u001b[0my\u001b[0m\u001b[0;34m,\u001b[0m \u001b[0;34m**\u001b[0m\u001b[0mlast_step_params\u001b[0m\u001b[0;34m[\u001b[0m\u001b[0;34m\"fit\"\u001b[0m\u001b[0;34m]\u001b[0m\u001b[0;34m)\u001b[0m\u001b[0;34m\u001b[0m\u001b[0;34m\u001b[0m\u001b[0m\n\u001b[0m\u001b[1;32m    663\u001b[0m \u001b[0;34m\u001b[0m\u001b[0m\n\u001b[1;32m    664\u001b[0m         \u001b[0;32mreturn\u001b[0m \u001b[0mself\u001b[0m\u001b[0;34m\u001b[0m\u001b[0;34m\u001b[0m\u001b[0m\n",
            "\u001b[0;32m/usr/local/lib/python3.11/dist-packages/sklearn/base.py\u001b[0m in \u001b[0;36mwrapper\u001b[0;34m(estimator, *args, **kwargs)\u001b[0m\n\u001b[1;32m   1387\u001b[0m                 )\n\u001b[1;32m   1388\u001b[0m             ):\n\u001b[0;32m-> 1389\u001b[0;31m                 \u001b[0;32mreturn\u001b[0m \u001b[0mfit_method\u001b[0m\u001b[0;34m(\u001b[0m\u001b[0mestimator\u001b[0m\u001b[0;34m,\u001b[0m \u001b[0;34m*\u001b[0m\u001b[0margs\u001b[0m\u001b[0;34m,\u001b[0m \u001b[0;34m**\u001b[0m\u001b[0mkwargs\u001b[0m\u001b[0;34m)\u001b[0m\u001b[0;34m\u001b[0m\u001b[0;34m\u001b[0m\u001b[0m\n\u001b[0m\u001b[1;32m   1390\u001b[0m \u001b[0;34m\u001b[0m\u001b[0m\n\u001b[1;32m   1391\u001b[0m         \u001b[0;32mreturn\u001b[0m \u001b[0mwrapper\u001b[0m\u001b[0;34m\u001b[0m\u001b[0;34m\u001b[0m\u001b[0m\n",
            "\u001b[0;32m/usr/local/lib/python3.11/dist-packages/sklearn/linear_model/_logistic.py\u001b[0m in \u001b[0;36mfit\u001b[0;34m(self, X, y, sample_weight)\u001b[0m\n\u001b[1;32m   1201\u001b[0m \u001b[0;34m\u001b[0m\u001b[0m\n\u001b[1;32m   1202\u001b[0m         \u001b[0;32mif\u001b[0m \u001b[0mself\u001b[0m\u001b[0;34m.\u001b[0m\u001b[0mpenalty\u001b[0m \u001b[0;34m==\u001b[0m \u001b[0;34m\"elasticnet\"\u001b[0m \u001b[0;32mand\u001b[0m \u001b[0mself\u001b[0m\u001b[0;34m.\u001b[0m\u001b[0ml1_ratio\u001b[0m \u001b[0;32mis\u001b[0m \u001b[0;32mNone\u001b[0m\u001b[0;34m:\u001b[0m\u001b[0;34m\u001b[0m\u001b[0;34m\u001b[0m\u001b[0m\n\u001b[0;32m-> 1203\u001b[0;31m             \u001b[0;32mraise\u001b[0m \u001b[0mValueError\u001b[0m\u001b[0;34m(\u001b[0m\u001b[0;34m\"l1_ratio must be specified when penalty is elasticnet.\"\u001b[0m\u001b[0;34m)\u001b[0m\u001b[0;34m\u001b[0m\u001b[0;34m\u001b[0m\u001b[0m\n\u001b[0m\u001b[1;32m   1204\u001b[0m \u001b[0;34m\u001b[0m\u001b[0m\n\u001b[1;32m   1205\u001b[0m         \u001b[0;32mif\u001b[0m \u001b[0mself\u001b[0m\u001b[0;34m.\u001b[0m\u001b[0mpenalty\u001b[0m \u001b[0;32mis\u001b[0m \u001b[0;32mNone\u001b[0m\u001b[0;34m:\u001b[0m\u001b[0;34m\u001b[0m\u001b[0;34m\u001b[0m\u001b[0m\n",
            "\u001b[0;31mValueError\u001b[0m: l1_ratio must be specified when penalty is elasticnet."
          ]
        }
      ]
    },
    {
      "cell_type": "markdown",
      "source": [],
      "metadata": {
        "id": "Ei-pdm6KENbo"
      }
    },
    {
      "cell_type": "code",
      "execution_count": null,
      "outputs": [],
      "source": [
        "def get_conclusion():\n",
        "    # Todo: Please return your answer, conclusion and opinion right here\n",
        "    return \"7. \" \\\n",
        "           \"Other conclusion: \""
      ],
      "metadata": {
        "id": "T0UDQCc48Ko1"
      }
    }
  ],
  "metadata": {
    "kernelspec": {
      "display_name": "Python 3",
      "language": "python",
      "name": "python3"
    },
    "language_info": {
      "codemirror_mode": {
        "name": "ipython",
        "version": 2
      },
      "file_extension": ".py",
      "mimetype": "text/x-python",
      "name": "python",
      "nbconvert_exporter": "python",
      "pygments_lexer": "ipython2",
      "version": "2.7.6"
    },
    "colab": {
      "provenance": []
    }
  },
  "nbformat": 4,
  "nbformat_minor": 0
}